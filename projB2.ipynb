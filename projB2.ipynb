{
 "cells": [
  {
   "cell_type": "code",
   "execution_count": 1,
   "metadata": {
    "deletable": false,
    "editable": false
   },
   "outputs": [],
   "source": [
    "# Initialize Otter\n",
    "import otter\n",
    "grader = otter.Notebook(\"projB2.ipynb\")"
   ]
  },
  {
   "cell_type": "markdown",
   "metadata": {},
   "source": [
    "# Project B2: Spam/Ham Classification - Build Your Own Model\n",
    "\n",
    "## Feature Engineering, Classification, and Cross-Validation\n",
    "## Due Date: Thursday, December 5th, 11:59 PM PDT\n",
    "\n",
    "You must submit this assignment to Gradescope by the on-time deadline, Thursday, December 5th, 11:59 PM PDT. Please read the syllabus for the Slip Day policy. No late submissions beyond what is outlined in the Slip Day policy will be accepted. We strongly encourage you to plan to submit your work to Gradescope several hours before the stated deadline. This way, you will have ample time to reach out to staff for support if you encounter difficulties with submission. While course staff is happy to help guide you with submitting your assignment ahead of the deadline, we will not respond to last-minute requests for assistance (TAs need to sleep, after all!).\n",
    "\n",
    "Please read the instructions carefully when submitting your work to Gradescope. \n",
    "\n",
    "## Collaboration Policy\n",
    "\n",
    "Data science is a collaborative activity. While you may talk with others about the project, we ask that you **write your solutions individually**. If you do discuss the assignments with others, please **include their names** in the collaborators cell below."
   ]
  },
  {
   "cell_type": "markdown",
   "metadata": {},
   "source": [
    "**Collaborators**: *list collaborators here*"
   ]
  },
  {
   "cell_type": "markdown",
   "metadata": {
    "nbgrader": {
     "grade": false,
     "grade_id": "proj2",
     "locked": true,
     "schema_version": 2,
     "solution": false
    }
   },
   "source": [
    "## Introduction\n",
    "In this project, you will build and improve on the concepts and functions you implemented in Project B1 to create your own classifier to distinguish spam emails from ham (non-spam) emails. We will evaluate your work based on your model's accuracy and written responses in this notebook.\n",
    "\n",
    "After this assignment, you should feel comfortable with the following:\n",
    "\n",
    "- Using `sklearn` libraries to process data and fit classification models.\n",
    "- Validating the performance of your model and minimizing overfitting.\n",
    "- Generating and analyzing ROC curves.\n",
    "\n",
    "## Content Warning\n",
    "This is a **real-world** dataset —— the emails you are trying to classify are actual spam and legitimate emails. As a result, some of the spam emails may be in poor taste or be considered inappropriate. We think the benefit of working with realistic data outweighs these inappropriate emails, but we wanted to warn you at the beginning of the project so that you are made aware.\n",
    "\n",
    "If you feel uncomfortable with this topic, **please contact your TA, the instructors, or reach out via the [Fall 2024 additional accommodations form](https://docs.google.com/forms/d/e/1FAIpQLScwnGIQjfqWzH2Acx5bEBNZzNeLAdI1_MfR34zPLZl7ezYIoA/viewform).**"
   ]
  },
  {
   "cell_type": "code",
   "execution_count": 2,
   "metadata": {},
   "outputs": [],
   "source": [
    "# Run this cell to suppress all FutureWarnings\n",
    "import warnings\n",
    "warnings.filterwarnings(\"ignore\", category=FutureWarning)"
   ]
  },
  {
   "cell_type": "markdown",
   "metadata": {},
   "source": [
    "## Grading\n",
    "Grading is broken down into autograded answers and free responses. \n",
    "\n",
    "For autograded answers, the results of your code are compared to provided and/or hidden tests.\n",
    "\n",
    "For free response questions, readers will evaluate how well you answered the question and/or fulfilled the requirements of the question.\n",
    "\n",
    "Question | Manual | Points\n",
    "----|----|----\n",
    "1a | Yes | 4\n",
    "1b | Yes | 2\n",
    "2 | No | 0\n",
    "3a | No | 5\n",
    "3b | No | 10\n",
    "4 | Yes | 6\n",
    "5 | Yes | 3\n",
    "6a | Yes | 3\n",
    "6b | Yes | 2\n",
    "7ai | No | 1\n",
    "7aii | Yes | 1\n",
    "7bi | Yes | 1\n",
    "7bii | Yes | 1\n",
    "7c | Yes | 1\n",
    "7d | Yes | 2\n",
    "7e | Yes | 2\n",
    "Total | 12 | 44"
   ]
  },
  {
   "cell_type": "markdown",
   "metadata": {},
   "source": [
    "## Before You Start\n",
    "\n",
    "For each question in the assignment, please write down your answer in the answer cell(s) right below the question. \n",
    "\n",
    "We understand that it is helpful to have extra cells breaking down the process of reaching your final answer. If you happen to create new cells below your answer to run code, **NEVER** add cells between a question cell and the answer cell below it. It will cause errors when we run the autograder, and it will sometimes cause a failure to generate the PDF file.\n",
    "\n",
    "**Important note: The local autograder tests will not be comprehensive. You can pass the automated tests in your notebook but still fail tests in the autograder.** Please be sure to check your results carefully.\n",
    "\n",
    "### Debugging Guide\n",
    "If you run into any technical issues, we highly recommend checking out the [Data 100 Debugging Guide](https://ds100.org/debugging-guide/). This guide contains general questions about Jupyter notebooks / Datahub, Gradescope, common `pandas` errors, RegEx, visualizations, and more."
   ]
  },
  {
   "cell_type": "code",
   "execution_count": 3,
   "metadata": {
    "ExecuteTime": {
     "end_time": "2019-04-03T20:17:41.341673Z",
     "start_time": "2019-04-03T20:17:41.330307Z"
    },
    "nbgrader": {
     "grade": false,
     "grade_id": "imports",
     "locked": true,
     "schema_version": 2,
     "solution": false
    }
   },
   "outputs": [],
   "source": [
    "import numpy as np\n",
    "import pandas as pd\n",
    "import sys\n",
    "\n",
    "import matplotlib.pyplot as plt\n",
    "%matplotlib inline\n",
    "\n",
    "import seaborn as sns\n",
    "sns.set(style = \"whitegrid\", \n",
    "        color_codes = True,\n",
    "        font_scale = 1.5)\n",
    "\n",
    "from datetime import datetime\n",
    "from IPython.display import display, HTML"
   ]
  },
  {
   "cell_type": "markdown",
   "metadata": {
    "nbgrader": {
     "grade": false,
     "grade_id": "p1",
     "locked": true,
     "schema_version": 2,
     "solution": false
    }
   },
   "source": [
    "<br/>\n",
    "<hr style=\"border: 5px solid #003262;\" />\n",
    "<hr style=\"border: 1px solid #fdb515;\" />\n",
    "\n",
    "# Setup and Recap\n",
    "\n",
    "Here, we will provide a summary of Project B1 to remind you of how we cleaned the data, explored it, and implemented methods helpful in building your own model."
   ]
  },
  {
   "cell_type": "markdown",
   "metadata": {
    "nbgrader": {
     "grade": false,
     "grade_id": "loading",
     "locked": true,
     "schema_version": 2,
     "solution": false
    }
   },
   "source": [
    "## Loading and Cleaning Data\n",
    "\n",
    "Remember that in the email classification task, our goal is to classify emails as spam or not spam (referred to as \"ham\") using features generated from the text in the email. \n",
    "\n",
    "The dataset consists of email messages and their labels (0 for ham, 1 for spam). Your labeled training dataset contains 8,348 labeled examples, and the unlabeled test set contains 1,000 unlabeled examples.\n",
    "\n",
    "Run the following cell to load the data into a `DataFrame`.\n",
    "\n",
    "The `train` `DataFrame` contains labeled data that you will use to train your model. It contains four columns:\n",
    "\n",
    "1. `id`: An identifier for the training example.\n",
    "1. `subject`: The subject of the email.\n",
    "1. `email`: The text of the email.\n",
    "1. `spam`: 1 if the email is spam, 0 if the email is ham (not spam).\n",
    "\n",
    "The `test` `DataFrame` contains 1,000 unlabeled emails. You will predict labels for these emails and submit your predictions to the autograder for evaluation."
   ]
  },
  {
   "cell_type": "code",
   "execution_count": 4,
   "metadata": {},
   "outputs": [],
   "source": [
    "import zipfile\n",
    "with zipfile.ZipFile('spam_ham_data.zip') as item:\n",
    "    with item.open(\"train.csv\") as f:\n",
    "        original_training_data = pd.read_csv(f)\n",
    "    with item.open(\"test.csv\") as f:\n",
    "        test = pd.read_csv(f)"
   ]
  },
  {
   "cell_type": "code",
   "execution_count": 5,
   "metadata": {},
   "outputs": [
    {
     "data": {
      "text/html": [
       "<div>\n",
       "<style scoped>\n",
       "    .dataframe tbody tr th:only-of-type {\n",
       "        vertical-align: middle;\n",
       "    }\n",
       "\n",
       "    .dataframe tbody tr th {\n",
       "        vertical-align: top;\n",
       "    }\n",
       "\n",
       "    .dataframe thead th {\n",
       "        text-align: right;\n",
       "    }\n",
       "</style>\n",
       "<table border=\"1\" class=\"dataframe\">\n",
       "  <thead>\n",
       "    <tr style=\"text-align: right;\">\n",
       "      <th></th>\n",
       "      <th>id</th>\n",
       "      <th>subject</th>\n",
       "      <th>email</th>\n",
       "      <th>spam</th>\n",
       "    </tr>\n",
       "  </thead>\n",
       "  <tbody>\n",
       "    <tr>\n",
       "      <th>0</th>\n",
       "      <td>0</td>\n",
       "      <td>Subject: A&amp;L Daily to be auctioned in bankrupt...</td>\n",
       "      <td>url: http://boingboing.net/#85534171\\n date: n...</td>\n",
       "      <td>0</td>\n",
       "    </tr>\n",
       "    <tr>\n",
       "      <th>1</th>\n",
       "      <td>1</td>\n",
       "      <td>Subject: Wired: \"Stronger ties between ISPs an...</td>\n",
       "      <td>url: http://scriptingnews.userland.com/backiss...</td>\n",
       "      <td>0</td>\n",
       "    </tr>\n",
       "    <tr>\n",
       "      <th>2</th>\n",
       "      <td>2</td>\n",
       "      <td>Subject: It's just too small                  ...</td>\n",
       "      <td>&lt;html&gt;\\n &lt;head&gt;\\n &lt;/head&gt;\\n &lt;body&gt;\\n &lt;font siz...</td>\n",
       "      <td>1</td>\n",
       "    </tr>\n",
       "    <tr>\n",
       "      <th>3</th>\n",
       "      <td>3</td>\n",
       "      <td>Subject: liberal defnitions\\n</td>\n",
       "      <td>depends on how much over spending vs. how much...</td>\n",
       "      <td>0</td>\n",
       "    </tr>\n",
       "    <tr>\n",
       "      <th>4</th>\n",
       "      <td>4</td>\n",
       "      <td>Subject: RE: [ILUG] Newbie seeks advice - Suse...</td>\n",
       "      <td>hehe sorry but if you hit caps lock twice the ...</td>\n",
       "      <td>0</td>\n",
       "    </tr>\n",
       "  </tbody>\n",
       "</table>\n",
       "</div>"
      ],
      "text/plain": [
       "   id                                            subject  \\\n",
       "0   0  Subject: A&L Daily to be auctioned in bankrupt...   \n",
       "1   1  Subject: Wired: \"Stronger ties between ISPs an...   \n",
       "2   2  Subject: It's just too small                  ...   \n",
       "3   3                      Subject: liberal defnitions\\n   \n",
       "4   4  Subject: RE: [ILUG] Newbie seeks advice - Suse...   \n",
       "\n",
       "                                               email  spam  \n",
       "0  url: http://boingboing.net/#85534171\\n date: n...     0  \n",
       "1  url: http://scriptingnews.userland.com/backiss...     0  \n",
       "2  <html>\\n <head>\\n </head>\\n <body>\\n <font siz...     1  \n",
       "3  depends on how much over spending vs. how much...     0  \n",
       "4  hehe sorry but if you hit caps lock twice the ...     0  "
      ]
     },
     "execution_count": 5,
     "metadata": {},
     "output_type": "execute_result"
    }
   ],
   "source": [
    "# Convert the emails to lowercase as the first step of text processing.\n",
    "original_training_data['email'] = original_training_data['email'].str.lower()\n",
    "test['email'] = test['email'].str.lower()\n",
    "\n",
    "original_training_data.head()"
   ]
  },
  {
   "cell_type": "markdown",
   "metadata": {},
   "source": [
    "Feel free to explore the dataset above along with any specific spam and ham emails that interest you. Keep in mind that our data may contain missing values, which are handled in the following cell."
   ]
  },
  {
   "cell_type": "code",
   "execution_count": 6,
   "metadata": {
    "ExecuteTime": {
     "end_time": "2019-04-03T20:17:42.203231Z",
     "start_time": "2019-04-03T20:17:42.185104Z"
    },
    "nbgrader": {
     "grade": false,
     "grade_id": "cell-b1fb39d9b651ca1b",
     "locked": false,
     "schema_version": 2,
     "solution": true
    }
   },
   "outputs": [
    {
     "name": "stdout",
     "output_type": "stream",
     "text": [
      "Before imputation:\n",
      "id         0\n",
      "subject    6\n",
      "email      0\n",
      "spam       0\n",
      "dtype: int64\n",
      "------------\n",
      "After imputation:\n",
      "id         0\n",
      "subject    0\n",
      "email      0\n",
      "spam       0\n",
      "dtype: int64\n"
     ]
    }
   ],
   "source": [
    "# Fill any missing or NAN values.\n",
    "print('Before imputation:')\n",
    "print(original_training_data.isnull().sum())\n",
    "original_training_data = original_training_data.fillna('')\n",
    "print('------------')\n",
    "print('After imputation:')\n",
    "print(original_training_data.isnull().sum())"
   ]
  },
  {
   "cell_type": "markdown",
   "metadata": {},
   "source": [
    "## Training/Validation Split\n",
    "\n",
    "Recall that the training data we downloaded is all the data we have available for both training models and **validating** the models that we train. Therefore, we split the training data into separate training and validation datasets. Once you have finished training, you will need this validation data to assess the performance of your classifier. \n",
    "\n",
    "As in Project B1, we set the seed (`random_state`) to 42. **Do not modify this in the following questions, as our tests depend on this random seed.**"
   ]
  },
  {
   "cell_type": "code",
   "execution_count": 7,
   "metadata": {
    "ExecuteTime": {
     "end_time": "2019-04-03T20:17:42.317970Z",
     "start_time": "2019-04-03T20:17:42.294532Z"
    },
    "nbgrader": {
     "grade": false,
     "grade_id": "cell-873194ed3e686dfb",
     "locked": true,
     "schema_version": 2,
     "solution": false
    }
   },
   "outputs": [],
   "source": [
    "# This creates a 90/10 train-validation split on our labeled data.\n",
    "from sklearn.model_selection import train_test_split\n",
    "train, val = train_test_split(original_training_data, test_size = 0.1, random_state = 42)\n",
    "\n",
    "# We must do this in order to preserve the ordering of emails to labels for words_in_texts.\n",
    "train = train.reset_index(drop = True)"
   ]
  },
  {
   "cell_type": "markdown",
   "metadata": {
    "nbgrader": {
     "grade": false,
     "grade_id": "feat-eng",
     "locked": true,
     "schema_version": 2,
     "solution": false
    }
   },
   "source": [
    "## Feature Engineering\n",
    "\n",
    "We need a numeric feature matrix $\\mathbb{X}$ and a vector of corresponding binary labels $\\mathbb{Y}$ to train a logistic regression model. In Project B1, we implemented the function `words_in_texts`, which creates numeric features derived from the email text and uses those features for logistic regression. \n",
    "\n",
    "For this project, we have provided you with an implemented version of `words_in_texts`. Remember that the function outputs a 2-dimensional `NumPy` array containing one row for each email text. The row should contain a 0 or a 1 for each word in the list: 0 if the word doesn't appear in the text and 1 if the word does. \n",
    "\n",
    "Run the following cell to see how the function works on some text."
   ]
  },
  {
   "cell_type": "code",
   "execution_count": 8,
   "metadata": {},
   "outputs": [
    {
     "data": {
      "text/plain": [
       "array([[1, 0, 0],\n",
       "       [1, 0, 1]])"
      ]
     },
     "execution_count": 8,
     "metadata": {},
     "output_type": "execute_result"
    }
   ],
   "source": [
    "from projB2_utils import words_in_texts\n",
    "\n",
    "words_in_texts(['hello', 'bye', 'world'], pd.Series(['hello', 'hello worldhello']))"
   ]
  },
  {
   "cell_type": "markdown",
   "metadata": {
    "nbgrader": {
     "grade": false,
     "grade_id": "classification",
     "locked": true,
     "schema_version": 2,
     "solution": false
    }
   },
   "source": [
    "## EDA and Basic Classification\n",
    "\n",
    "In Project B1, we visualized the frequency of different words in spam and ham emails and used `words_in_texts(words, train['email'])` to train a classifier directly. We also provided a simple set of 5 words that might be useful as features to distinguish spam/ham emails. \n",
    "\n",
    "We then built a model using the [`LogisticRegression`](http://scikit-learn.org/stable/modules/generated/sklearn.linear_model.LogisticRegression.html) classifier from `sklearn`.\n",
    "\n",
    "Run the following cell to see the performance of a simple model using these words and the `train` `DataFrame`."
   ]
  },
  {
   "cell_type": "code",
   "execution_count": 9,
   "metadata": {
    "ExecuteTime": {
     "end_time": "2019-04-03T20:17:43.726012Z",
     "start_time": "2019-04-03T20:17:43.498088Z"
    },
    "nbgrader": {
     "grade": false,
     "grade_id": "q4-answer",
     "locked": false,
     "schema_version": 2,
     "solution": true
    },
    "tags": [
     "student"
    ]
   },
   "outputs": [
    {
     "data": {
      "text/plain": [
       "(array([[0, 0, 0, 0, 0],\n",
       "        [0, 0, 0, 0, 0],\n",
       "        [0, 0, 0, 0, 0],\n",
       "        [0, 0, 0, 0, 0],\n",
       "        [0, 0, 0, 1, 0]]),\n",
       " array([0, 0, 0, 0, 0]))"
      ]
     },
     "execution_count": 9,
     "metadata": {},
     "output_type": "execute_result"
    }
   ],
   "source": [
    "some_words = ['drug', 'bank', 'prescription', 'memo', 'private']\n",
    "\n",
    "X_train = words_in_texts(some_words, train['email'])\n",
    "Y_train = np.array(train['spam'])\n",
    "\n",
    "X_train[:5], Y_train[:5]"
   ]
  },
  {
   "cell_type": "code",
   "execution_count": 10,
   "metadata": {
    "ExecuteTime": {
     "end_time": "2019-04-03T20:17:44.593918Z",
     "start_time": "2019-04-03T20:17:43.783872Z"
    },
    "nbgrader": {
     "grade": false,
     "grade_id": "q5-answer",
     "locked": false,
     "schema_version": 2,
     "solution": true
    },
    "tags": [
     "student"
    ]
   },
   "outputs": [
    {
     "name": "stdout",
     "output_type": "stream",
     "text": [
      "Training Accuracy:  0.7576201251164648\n"
     ]
    }
   ],
   "source": [
    "from sklearn.linear_model import LogisticRegression\n",
    "\n",
    "simple_model = LogisticRegression()\n",
    "simple_model.fit(X_train, Y_train)\n",
    "\n",
    "training_accuracy = simple_model.score(X_train, Y_train)\n",
    "print(\"Training Accuracy: \", training_accuracy)"
   ]
  },
  {
   "cell_type": "markdown",
   "metadata": {},
   "source": [
    "## Evaluating Classifiers"
   ]
  },
  {
   "cell_type": "markdown",
   "metadata": {},
   "source": [
    "In our models, we evaluate the accuracy of the training set, which may provide a misleading accuracy measure. In Project B1, we calculated various metrics to consider other ways of evaluating a classifier, in addition to overall accuracy. Below is a reference to those concepts.\n",
    "\n",
    "Presumably, our classifier will be used for **filtering**, or preventing messages labeled `spam` from reaching someone's inbox. There are two kinds of errors we can make:\n",
    "- **False positive (FP)**: A ham email gets flagged as spam and filtered out of the inbox.\n",
    "- **False negative (FN)**: A spam email gets mislabeled as ham and ends up in the inbox.\n",
    "\n",
    "To be clear, we label spam emails as 1 and ham emails as 0. These definitions depend both on the true labels and the predicted labels. False positives and false negatives may be of differing importance, leading us to consider more ways of evaluating a classifier in addition to overall accuracy:\n",
    "\n",
    "**Precision**: Measures the proportion of emails flagged as spam that are actually spam. Mathematically, $\\frac{\\text{TP}}{\\text{TP} + \\text{FP}}$.\n",
    "\n",
    "**Recall**: Measures the proportion  of spam emails that were correctly flagged as spam. Mathematically, $\\frac{\\text{TP}}{\\text{TP} + \\text{FN}}$.\n",
    "\n",
    "**False positive rate**: Measures the proportion  of ham emails that were incorrectly flagged as spam. Mathematically, $\\frac{\\text{FP}}{\\text{FP} + \\text{TN}}$.\n",
    "\n",
    "The below graphic (modified slightly from [Wikipedia](https://en.wikipedia.org/wiki/Precision_and_recall)) may help you understand precision and recall visually:<br />\n",
    "<center>\n",
    "<img alt=\"precision_recall\" src=\"precision_recall.png\" width=\"600px;\" />\n",
    "</center>\n",
    "\n",
    "Note that a True Positive (TP) is a spam email that is classified as spam, and a True Negative (TN) is a ham email that is classified as ham."
   ]
  },
  {
   "cell_type": "markdown",
   "metadata": {
    "nbgrader": {
     "grade": false,
     "grade_id": "p2",
     "locked": true,
     "schema_version": 2,
     "solution": false
    }
   },
   "source": [
    "<br/>\n",
    "<hr style=\"border: 1px solid #fdb515;\" />\n",
    "\n",
    "# Moving Forward\n",
    "\n",
    "With this in mind, it is now your task to make the spam filter more accurate. To get full credit on the accuracy part of this assignment, you must get at least **85%** accuracy on both the train and test set (see Question 3 for the partial credit breakdown). To determine your accuracy on the test set, you will use your classifier to predict every email in the `test` `DataFrame` and upload your predictions to Gradescope.\n",
    "\n",
    "**You will only be able to submit your test set predictions to Gradescope up to 4 times per day**. You will be able to see your accuracy on the entire test set when submitting to Gradescope. Note that attempts will not carry over across days, so we recommend planning ahead to make sure you have enough time to finetune your model! In the case that you are approved for an extension, you are granted 4 more submissions for each day the deadline has been extended.\n",
    "\n",
    "Here are some ideas for improving your model:\n",
    "\n",
    "1. Finding better features based on the email text. Some example features are:\n",
    "    1. Number of characters in the subject/body\n",
    "    1. Number of words in the subject/body\n",
    "    1. Use of punctuation (e.g., how many '!'s were there?)\n",
    "    1. Number/percentage of capital letters \n",
    "    1. Whether the email is a reply to an earlier email or a forwarded email\n",
    "1. Finding better words to use as features. Which words are the best at distinguishing emails? This requires digging into the email text itself. Alternatively, you can identify misclassified emails and see which relevant words are missing in your model.\n",
    "1. Reducing dimensionality and/or multicollinearity. There are a few methods to achieve this:\n",
    "    1. Interpret the model coefficients. Note that a feature will be more valuable in classification if its coefficient has a larger **absolute** value. If the coefficient has a lower **absolute** value, the feature likely isn't valuable in classifying emails.\n",
    "1. Better data processing. For example, many emails contain HTML as well as text. You can consider extracting the text from the HTML to help you find better words. Or, you can match HTML tags themselves, or even some combination of the two.\n",
    "1. Model selection. You can adjust the parameters of your model (e.g. the penalty type, the regularization parameter, or any arguments in `LogisticRegression`) to achieve higher accuracy. Recall that you should use cross-validation for feature and model selection! Otherwise, you will likely overfit to your training data.\n",
    "    1. Consider implementing L1 regularization. The [documentation](https://scikit-learn.org/stable/modules/generated/sklearn.linear_model.LogisticRegression.html) for `LogisticRegression` may be helpful here. \n",
    "    1. We have imported `GridSearchCV` for you. You may use sklearn's `GridSearchCV` ([documentation](https://scikit-learn.org/stable/modules/generated/sklearn.model_selection.GridSearchCV.html)) class to perform cross-validation. You do not need to code cross-validation from scratch, though you are welcome to do so.\n",
    "\n",
    "Here's an example of how to use `GridSearchCV`. Suppose we wanted to experiment with 4 different solvers (numerical methods for optimizing the mode) models for a `LogisticRegression` model `lr_model`. \n",
    "1. We could define a dictionary specifying the hyperparameters and the specific values we want to try out like so: `parameters = {'solver':[{'lbfgs', 'liblinear', 'newton-cg', 'saga']}`.\n",
    "2. Running `grid = GridSearchCV(estimator=lr_model, param_grid=parameters)` would give us a model for each combination of hyperparameters we are testing - in this case, just 4 models.\n",
    "3. We fit each model to some training data `X_train` and `Y_train` using `grid_result = grid.fit(X_train, Y_train)`.\n",
    "4. Indexing into `grid_result.cv_results_` with a particular metric (in this case, `mean_test_score`), we get an array with the scores corresponding to each of the models. `grid_result.cv_results_['mean_test_score']`.\n",
    "Feel free to experiment with other hyperparameters and metrics as well. The documentation is your friend!     \n",
    "       \n",
    "You may use whatever method you prefer to create features, but **you may only use the packages we've imported for you in the cell below or earlier in this notebook**. In addition, **you are only allowed to train logistic regression models**. No decision trees, random forests, k-nearest-neighbors, neural nets, etc. \n",
    "\n",
    "**Note 1:** You may want to use your **validation data** to evaluate your model and get a better sense of how it will perform on the test set. However, you may overfit to your validation set if you try to optimize your validation accuracy too much. Alternatively, you can perform cross-validation on the entire training set.\n",
    "\n",
    "**Note 2:** If you see a `ConvergenceWarning`, increase the maximum number of iterations the model runs for by passing in a parameter, `max_iter`, into `LogisticRegression()`. This should get rid of the warning. For a longer discussion on why this warning appears, you might find [this StackOverflow post](https://stackoverflow.com/questions/62658215/convergencewarning-lbfgs-failed-to-converge-status-1-stop-total-no-of-iter) helpful. Convergence of solvers is not in scope for Data 100, but by understanding what the error messages are saying, you can get some useful context on what to do in these situations."
   ]
  },
  {
   "cell_type": "markdown",
   "metadata": {},
   "source": [
    "<br/>\n",
    "<hr style=\"border: 1px solid #fdb515;\" />\n",
    "\n",
    "# Question 1: Exploratory Data Analysis\n",
    "\n",
    "To decide which features to use when building your model, it is helpful to conduct EDA. Show a visualization you used to select features for your model. \n",
    "\n",
    "Please include:\n",
    "\n",
    "1. A plot showing something meaningful about the data that helped you during feature selection, model selection, or both.\n",
    "2. Two or three sentences describing what you plotted and its implications with respect to your features.\n",
    "\n",
    "You can create as many plots as you want in your feature selection process, but you should select only one for the response question below.\n",
    "\n",
    "**You should not just produce an identical visualization to Question 3 in Project B1.** For this section, we’d like you to go beyond the analysis you performed in Project B1. Choose some plot other than the 1-dimensional distribution of some quantity for spam and ham emails. In particular, do not produce a bar plot of proportions like you created in Question 3 of Project B1. Any other plot is acceptable, **as long as it comes with thoughtful commentary.** Here are some ideas:\n",
    "\n",
    "1. Consider the correlation between multiple features (look up correlation plots and `sns.heatmap` ([documentation](https://seaborn.pydata.org/generated/seaborn.heatmap.html))). \n",
    "1. Try to show redundancy in a group of features (e.g., `body` and `html` might co-occur relatively frequently, or you might be able to design a feature that captures all HTML tags and compares them to these). \n",
    "1. Visualize which words have high or low values for helpful statistics.\n",
    "1. Visually depict whether spam emails tend to be wordier (in some sense) than ham emails."
   ]
  },
  {
   "cell_type": "markdown",
   "metadata": {
    "deletable": false,
    "editable": false
   },
   "source": [
    "<!-- BEGIN QUESTION -->\n",
    "\n",
    "<br>\n",
    "\n",
    "---\n",
    "\n",
    "## Question 1a\n",
    "\n",
    "Generate your visualization in the cell below.\n"
   ]
  },
  {
   "cell_type": "code",
   "execution_count": 11,
   "metadata": {},
   "outputs": [
    {
     "name": "stdout",
     "output_type": "stream",
     "text": [
      "Avg char spam: 5528.656412930136\n",
      "Avg char ham: 2986.5805183199286\n",
      "Avg words spam: 457.6715328467153\n",
      "Avg words ham: 332.34709562109026\n",
      "Avg Spam Exclamations: 6.470281543274244\n",
      "Avg Ham Exclamations: 2.0875781948168006\n",
      "Avg Spam Subject Capital Letter: 8.327424400417101\n",
      "Avg Ham Subject Capital Letter: 5.28739946380697\n",
      "% Spam that are replies 0.040667361835245046\n",
      "% Ham that are replies 0.47560321715817694\n"
     ]
    }
   ],
   "source": [
    "# Trying 1. (characters and words)\n",
    "spam_emails = train[train['spam'] == 1]\n",
    "ham_emails = train[train['spam'] == 0]\n",
    "\n",
    "avg_char_spam = np.mean(spam_emails['email'].str.len())\n",
    "avg_char_ham = np.mean(ham_emails['email'].str.len())\n",
    "\n",
    "proportion_char = avg_char_spam/avg_char_ham\n",
    "print(f'Avg char spam: {avg_char_spam}')\n",
    "print(f'Avg char ham: {avg_char_ham}')\n",
    "\n",
    "avg_words_spam = np.mean(spam_emails['email'].apply(lambda x: len(x.split())))\n",
    "avg_words_ham = np.mean(ham_emails['email'].apply(lambda x: len(x.split())))\n",
    "proportion_words = avg_words_spam/avg_words_ham\n",
    "print(f'Avg words spam: {avg_words_spam}')\n",
    "print(f'Avg words ham: {avg_words_ham}')\n",
    "\n",
    "train_copy = train.copy()\n",
    "train_copy['word_length'] = train['email'].apply(lambda x: len(x.split()))\n",
    "train_copy['char_length'] = train['email'].str.len()\n",
    "\n",
    "# Try if the number of words is greater than/equal to 300, classify as spam\n",
    "# If the number of characters is greater than/equal to 3000, classify as spam\n",
    "\n",
    "# Trying 1. (Use of punctuation) \n",
    "\n",
    "pattern = r\"(!){2},\"\n",
    "train_copy['exclamations'] = train_copy['email'].str.count(r'!')\n",
    "print('Avg Spam Exclamations:', np.mean(train_copy[train_copy['spam'] == 1]['exclamations']))\n",
    "print('Avg Ham Exclamations:', np.mean(train_copy[train_copy['spam'] == 0]['exclamations']))\n",
    "\n",
    "# Try if number of exclamations is greater than/equal to 3, classify as spam\n",
    "\n",
    "# Trying 1. (Number/Percentage of Capital Letters)\n",
    "\n",
    "capitals = r\"[A-Z]\"\n",
    "train_copy['capital_letter_count'] = train_copy['subject'].str.count(capitals)\n",
    "# train_copy['capital_letter_percentage'] = train_copy['subject'].str.count(capitals) / train_copy['subject'].str.len()\n",
    "print(\"Avg Spam Subject Capital Letter:\", np.mean(train_copy[train_copy['spam'] == 1]['capital_letter_count']))\n",
    "print(\"Avg Ham Subject Capital Letter:\", np.mean(train_copy[train_copy['spam'] == 0]['capital_letter_count']))\n",
    "# print(\"% Spam Subject Capital Letter:\", np.mean(train_copy[train_copy['spam'] == 1]['capital_letter_percentage']))\n",
    "# print(\"% Ham Subject Capital Letter:\", np.mean(train_copy[train_copy['spam'] == 0]['capital_letter_percentage']))\n",
    "\n",
    "# Try if number of capitals is greater than/equal to 5, classify as spam (this likely won't be included)\n",
    "\n",
    "# Trying 1. (If Email is a reply/forwarded email)\n",
    "replies = r'Subject:\\s*Re:'\n",
    "forwards = r'Subject:\\s*Fw:'\n",
    "train_copy['reply'] = train_copy['subject'].str.contains(replies, regex=True, case=False).astype('int64')\n",
    "train_copy['forward'] = train_copy['subject'].str.contains(forwards, regex=True, case=False).astype('int64')\n",
    "print(\"% Spam that are replies\", np.mean(train_copy[train_copy['spam'] == 1]['reply']))\n",
    "print(\"% Ham that are replies\", np.mean(train_copy[train_copy['spam'] == 0]['reply']))\n",
    "\n",
    "# Less than 5 percent of emails that are spam are replies, 47.5 percent of ham emails are replies --> if it is a reply, classify as ham"
   ]
  },
  {
   "cell_type": "code",
   "execution_count": 12,
   "metadata": {},
   "outputs": [],
   "source": [
    "data = train.copy()\n",
    "data['word_length'] = data['email'].apply(lambda x: len(x.split()))\n",
    "data['char_length'] = data['email'].str.len()\n",
    "data['many_words'] = (data['word_length'] >= 300).astype(int)\n",
    "data['many_chars'] = (data['char_length'] >= 3000).astype(int)\n",
    "\n",
    "\n",
    "data['capital_letter_count'] = data['subject'].str.count(r\"[A-Z]\")\n",
    "data['capital_letter_count'] = data['capital_letter_count'].fillna(value=0)\n",
    "data['exclamations'] = data['email'].str.count(r'!')\n",
    "data['many_exclamations'] = (data['exclamations'] >= 3).astype(int)\n",
    "\n",
    "\n",
    "replies = r'Subject:\\s*Re:'\n",
    "forwards = r'Subject:\\s*Fw:'\n",
    "data['is_reply'] = data['subject'].str.contains(replies, regex=True, case=False, na=False).astype(int)\n",
    "data['is_forward'] = data['subject'].str.contains(forwards, regex=True, case=False, na=False).astype(int)\n",
    "\n",
    "data['likely_ham'] = data['is_reply']\n",
    "\n",
    "spam_words = ['href', 'size', 'meta', '<head>', 'font', '<br>', 'offer', 'money']\n",
    "word_matrix = words_in_texts(spam_words, data['email'])\n",
    "word_features = pd.DataFrame(word_matrix, columns=spam_words, index=data.index)\n",
    "\n",
    "# Add the spammy word features to the main DataFrame\n",
    "data = pd.concat([data, word_features], axis=1)\n",
    "data.drop(columns=['id', 'subject', 'email'], inplace=True)"
   ]
  },
  {
   "cell_type": "code",
   "execution_count": 13,
   "metadata": {},
   "outputs": [
    {
     "data": {
      "text/html": [
       "<div>\n",
       "<style scoped>\n",
       "    .dataframe tbody tr th:only-of-type {\n",
       "        vertical-align: middle;\n",
       "    }\n",
       "\n",
       "    .dataframe tbody tr th {\n",
       "        vertical-align: top;\n",
       "    }\n",
       "\n",
       "    .dataframe thead th {\n",
       "        text-align: right;\n",
       "    }\n",
       "</style>\n",
       "<table border=\"1\" class=\"dataframe\">\n",
       "  <thead>\n",
       "    <tr style=\"text-align: right;\">\n",
       "      <th></th>\n",
       "      <th>spam</th>\n",
       "      <th>word_length</th>\n",
       "      <th>char_length</th>\n",
       "      <th>many_words</th>\n",
       "      <th>many_chars</th>\n",
       "      <th>capital_letter_count</th>\n",
       "      <th>exclamations</th>\n",
       "      <th>many_exclamations</th>\n",
       "      <th>is_reply</th>\n",
       "      <th>is_forward</th>\n",
       "      <th>likely_ham</th>\n",
       "      <th>href</th>\n",
       "      <th>size</th>\n",
       "      <th>meta</th>\n",
       "      <th>&lt;head&gt;</th>\n",
       "      <th>font</th>\n",
       "      <th>&lt;br&gt;</th>\n",
       "      <th>offer</th>\n",
       "      <th>money</th>\n",
       "    </tr>\n",
       "  </thead>\n",
       "  <tbody>\n",
       "    <tr>\n",
       "      <th>0</th>\n",
       "      <td>0</td>\n",
       "      <td>222</td>\n",
       "      <td>1641</td>\n",
       "      <td>0</td>\n",
       "      <td>0</td>\n",
       "      <td>2</td>\n",
       "      <td>2</td>\n",
       "      <td>0</td>\n",
       "      <td>0</td>\n",
       "      <td>0</td>\n",
       "      <td>0</td>\n",
       "      <td>0</td>\n",
       "      <td>0</td>\n",
       "      <td>0</td>\n",
       "      <td>0</td>\n",
       "      <td>0</td>\n",
       "      <td>0</td>\n",
       "      <td>0</td>\n",
       "      <td>0</td>\n",
       "    </tr>\n",
       "    <tr>\n",
       "      <th>1</th>\n",
       "      <td>0</td>\n",
       "      <td>617</td>\n",
       "      <td>4713</td>\n",
       "      <td>1</td>\n",
       "      <td>1</td>\n",
       "      <td>2</td>\n",
       "      <td>0</td>\n",
       "      <td>0</td>\n",
       "      <td>0</td>\n",
       "      <td>0</td>\n",
       "      <td>0</td>\n",
       "      <td>0</td>\n",
       "      <td>0</td>\n",
       "      <td>0</td>\n",
       "      <td>0</td>\n",
       "      <td>0</td>\n",
       "      <td>0</td>\n",
       "      <td>0</td>\n",
       "      <td>0</td>\n",
       "    </tr>\n",
       "    <tr>\n",
       "      <th>2</th>\n",
       "      <td>0</td>\n",
       "      <td>162</td>\n",
       "      <td>1399</td>\n",
       "      <td>0</td>\n",
       "      <td>0</td>\n",
       "      <td>3</td>\n",
       "      <td>3</td>\n",
       "      <td>1</td>\n",
       "      <td>1</td>\n",
       "      <td>0</td>\n",
       "      <td>1</td>\n",
       "      <td>0</td>\n",
       "      <td>0</td>\n",
       "      <td>0</td>\n",
       "      <td>0</td>\n",
       "      <td>0</td>\n",
       "      <td>0</td>\n",
       "      <td>0</td>\n",
       "      <td>0</td>\n",
       "    </tr>\n",
       "    <tr>\n",
       "      <th>3</th>\n",
       "      <td>0</td>\n",
       "      <td>682</td>\n",
       "      <td>4435</td>\n",
       "      <td>1</td>\n",
       "      <td>1</td>\n",
       "      <td>12</td>\n",
       "      <td>2</td>\n",
       "      <td>0</td>\n",
       "      <td>0</td>\n",
       "      <td>0</td>\n",
       "      <td>0</td>\n",
       "      <td>0</td>\n",
       "      <td>0</td>\n",
       "      <td>0</td>\n",
       "      <td>0</td>\n",
       "      <td>0</td>\n",
       "      <td>0</td>\n",
       "      <td>0</td>\n",
       "      <td>0</td>\n",
       "    </tr>\n",
       "    <tr>\n",
       "      <th>4</th>\n",
       "      <td>0</td>\n",
       "      <td>2387</td>\n",
       "      <td>32857</td>\n",
       "      <td>1</td>\n",
       "      <td>1</td>\n",
       "      <td>10</td>\n",
       "      <td>44</td>\n",
       "      <td>1</td>\n",
       "      <td>0</td>\n",
       "      <td>0</td>\n",
       "      <td>0</td>\n",
       "      <td>1</td>\n",
       "      <td>1</td>\n",
       "      <td>0</td>\n",
       "      <td>1</td>\n",
       "      <td>1</td>\n",
       "      <td>1</td>\n",
       "      <td>1</td>\n",
       "      <td>0</td>\n",
       "    </tr>\n",
       "    <tr>\n",
       "      <th>...</th>\n",
       "      <td>...</td>\n",
       "      <td>...</td>\n",
       "      <td>...</td>\n",
       "      <td>...</td>\n",
       "      <td>...</td>\n",
       "      <td>...</td>\n",
       "      <td>...</td>\n",
       "      <td>...</td>\n",
       "      <td>...</td>\n",
       "      <td>...</td>\n",
       "      <td>...</td>\n",
       "      <td>...</td>\n",
       "      <td>...</td>\n",
       "      <td>...</td>\n",
       "      <td>...</td>\n",
       "      <td>...</td>\n",
       "      <td>...</td>\n",
       "      <td>...</td>\n",
       "      <td>...</td>\n",
       "    </tr>\n",
       "    <tr>\n",
       "      <th>7508</th>\n",
       "      <td>0</td>\n",
       "      <td>60</td>\n",
       "      <td>465</td>\n",
       "      <td>0</td>\n",
       "      <td>0</td>\n",
       "      <td>2</td>\n",
       "      <td>0</td>\n",
       "      <td>0</td>\n",
       "      <td>0</td>\n",
       "      <td>0</td>\n",
       "      <td>0</td>\n",
       "      <td>0</td>\n",
       "      <td>0</td>\n",
       "      <td>0</td>\n",
       "      <td>0</td>\n",
       "      <td>0</td>\n",
       "      <td>0</td>\n",
       "      <td>0</td>\n",
       "      <td>0</td>\n",
       "    </tr>\n",
       "    <tr>\n",
       "      <th>7509</th>\n",
       "      <td>1</td>\n",
       "      <td>978</td>\n",
       "      <td>7054</td>\n",
       "      <td>1</td>\n",
       "      <td>1</td>\n",
       "      <td>2</td>\n",
       "      <td>36</td>\n",
       "      <td>1</td>\n",
       "      <td>0</td>\n",
       "      <td>0</td>\n",
       "      <td>0</td>\n",
       "      <td>0</td>\n",
       "      <td>0</td>\n",
       "      <td>0</td>\n",
       "      <td>0</td>\n",
       "      <td>0</td>\n",
       "      <td>0</td>\n",
       "      <td>1</td>\n",
       "      <td>1</td>\n",
       "    </tr>\n",
       "    <tr>\n",
       "      <th>7510</th>\n",
       "      <td>0</td>\n",
       "      <td>279</td>\n",
       "      <td>1732</td>\n",
       "      <td>0</td>\n",
       "      <td>0</td>\n",
       "      <td>2</td>\n",
       "      <td>3</td>\n",
       "      <td>1</td>\n",
       "      <td>0</td>\n",
       "      <td>0</td>\n",
       "      <td>0</td>\n",
       "      <td>0</td>\n",
       "      <td>0</td>\n",
       "      <td>0</td>\n",
       "      <td>0</td>\n",
       "      <td>0</td>\n",
       "      <td>0</td>\n",
       "      <td>1</td>\n",
       "      <td>0</td>\n",
       "    </tr>\n",
       "    <tr>\n",
       "      <th>7511</th>\n",
       "      <td>0</td>\n",
       "      <td>172</td>\n",
       "      <td>1098</td>\n",
       "      <td>0</td>\n",
       "      <td>0</td>\n",
       "      <td>6</td>\n",
       "      <td>0</td>\n",
       "      <td>0</td>\n",
       "      <td>1</td>\n",
       "      <td>0</td>\n",
       "      <td>1</td>\n",
       "      <td>0</td>\n",
       "      <td>0</td>\n",
       "      <td>0</td>\n",
       "      <td>0</td>\n",
       "      <td>0</td>\n",
       "      <td>0</td>\n",
       "      <td>0</td>\n",
       "      <td>0</td>\n",
       "    </tr>\n",
       "    <tr>\n",
       "      <th>7512</th>\n",
       "      <td>0</td>\n",
       "      <td>134</td>\n",
       "      <td>812</td>\n",
       "      <td>0</td>\n",
       "      <td>0</td>\n",
       "      <td>3</td>\n",
       "      <td>1</td>\n",
       "      <td>0</td>\n",
       "      <td>1</td>\n",
       "      <td>0</td>\n",
       "      <td>1</td>\n",
       "      <td>0</td>\n",
       "      <td>0</td>\n",
       "      <td>0</td>\n",
       "      <td>0</td>\n",
       "      <td>0</td>\n",
       "      <td>0</td>\n",
       "      <td>0</td>\n",
       "      <td>0</td>\n",
       "    </tr>\n",
       "  </tbody>\n",
       "</table>\n",
       "<p>7513 rows × 19 columns</p>\n",
       "</div>"
      ],
      "text/plain": [
       "      spam  word_length  char_length  many_words  many_chars  \\\n",
       "0        0          222         1641           0           0   \n",
       "1        0          617         4713           1           1   \n",
       "2        0          162         1399           0           0   \n",
       "3        0          682         4435           1           1   \n",
       "4        0         2387        32857           1           1   \n",
       "...    ...          ...          ...         ...         ...   \n",
       "7508     0           60          465           0           0   \n",
       "7509     1          978         7054           1           1   \n",
       "7510     0          279         1732           0           0   \n",
       "7511     0          172         1098           0           0   \n",
       "7512     0          134          812           0           0   \n",
       "\n",
       "      capital_letter_count  exclamations  many_exclamations  is_reply  \\\n",
       "0                        2             2                  0         0   \n",
       "1                        2             0                  0         0   \n",
       "2                        3             3                  1         1   \n",
       "3                       12             2                  0         0   \n",
       "4                       10            44                  1         0   \n",
       "...                    ...           ...                ...       ...   \n",
       "7508                     2             0                  0         0   \n",
       "7509                     2            36                  1         0   \n",
       "7510                     2             3                  1         0   \n",
       "7511                     6             0                  0         1   \n",
       "7512                     3             1                  0         1   \n",
       "\n",
       "      is_forward  likely_ham  href  size  meta  <head>  font  <br>  offer  \\\n",
       "0              0           0     0     0     0       0     0     0      0   \n",
       "1              0           0     0     0     0       0     0     0      0   \n",
       "2              0           1     0     0     0       0     0     0      0   \n",
       "3              0           0     0     0     0       0     0     0      0   \n",
       "4              0           0     1     1     0       1     1     1      1   \n",
       "...          ...         ...   ...   ...   ...     ...   ...   ...    ...   \n",
       "7508           0           0     0     0     0       0     0     0      0   \n",
       "7509           0           0     0     0     0       0     0     0      1   \n",
       "7510           0           0     0     0     0       0     0     0      1   \n",
       "7511           0           1     0     0     0       0     0     0      0   \n",
       "7512           0           1     0     0     0       0     0     0      0   \n",
       "\n",
       "      money  \n",
       "0         0  \n",
       "1         0  \n",
       "2         0  \n",
       "3         0  \n",
       "4         0  \n",
       "...     ...  \n",
       "7508      0  \n",
       "7509      1  \n",
       "7510      0  \n",
       "7511      0  \n",
       "7512      0  \n",
       "\n",
       "[7513 rows x 19 columns]"
      ]
     },
     "execution_count": 13,
     "metadata": {},
     "output_type": "execute_result"
    }
   ],
   "source": [
    "data"
   ]
  },
  {
   "cell_type": "code",
   "execution_count": 14,
   "metadata": {},
   "outputs": [
    {
     "data": {
      "text/plain": [
       "<Axes: >"
      ]
     },
     "execution_count": 14,
     "metadata": {},
     "output_type": "execute_result"
    },
    {
     "data": {
      "image/png": "[encoded data removed]",
      "text/plain": [
       "<Figure size 1500x1500 with 2 Axes>"
      ]
     },
     "metadata": {},
     "output_type": "display_data"
    }
   ],
   "source": [
    "corr = data.corr()\n",
    "plt.figure(figsize=(15,15))\n",
    "sns.heatmap(data=corr, annot=True, cbar=True, fmt='.2f', annot_kws={\"size\": 12})"
   ]
  },
  {
   "cell_type": "markdown",
   "metadata": {
    "deletable": false,
    "editable": false
   },
   "source": [
    "<!-- END QUESTION -->\n",
    "\n",
    "<!-- BEGIN QUESTION -->\n",
    "\n",
    "<br>\n",
    "\n",
    "---\n",
    "\n",
    "## Question 1b\n",
    "\n",
    "In two to three sentences, describe what you plotted and its implications with respect to your features."
   ]
  },
  {
   "cell_type": "markdown",
   "metadata": {},
   "source": [
    "_Here, I have plotted a heatmap showing the correlations between the different features I am adding and the spam lavel. It looks as though each feature has a positive correlation with spam labels, although some of them are also heavily correlation to each other, such as the html words. Considering that our end goal is to make a good prediction as to whether or not an email should be classified as spam and not the actual importance of or contribution that each feature has on the prediction, the effects of multicollinearity are not as drastic, and I can continue to use the features I have implemented as they show positive correlation with being spam._"
   ]
  },
  {
   "cell_type": "markdown",
   "metadata": {
    "deletable": false,
    "editable": false
   },
   "source": [
    "<!-- END QUESTION -->\n",
    "\n",
    "<br/>\n",
    "<hr style=\"border: 1px solid #fdb515;\" />\n",
    "\n",
    "# Question 2: Building Your Own Model\n",
    "\n",
    "Now that you've explored the data and relevant features through EDA, it's time to build your model! As mentioned earlier, you may use whatever method you prefer to create features, but **you may only use the packages we've imported for you in the cell below or earlier in this notebook**. In addition, **you are only allowed to train logistic regression models**. No decision trees, random forests, k-nearest-neighbors, neural nets, etc. \n",
    "\n",
    "Please consider the ideas mentioned above when choosing features. We have not provided any code to do this, so feel free to create as many cells as you need to tackle this task. "
   ]
  },
  {
   "cell_type": "code",
   "execution_count": 15,
   "metadata": {
    "deletable": false,
    "editable": false
   },
   "outputs": [],
   "source": [
    "# import libraries\n",
    "# You may use any of these to create your features.\n",
    "from sklearn.preprocessing import OneHotEncoder\n",
    "from sklearn.linear_model import LogisticRegression\n",
    "from sklearn.metrics import accuracy_score, roc_curve, confusion_matrix\n",
    "from sklearn.model_selection import GridSearchCV\n",
    "from sklearn.decomposition import PCA\n",
    "import re\n",
    "from collections import Counter"
   ]
  },
  {
   "cell_type": "code",
   "execution_count": 16,
   "metadata": {
    "tags": []
   },
   "outputs": [],
   "source": [
    "# Define your processing function, processed data, and model here. \n",
    "# You may find it helpful to look through the rest of the questions first!\n",
    "def process(data):\n",
    "    \"\"\"\n",
    "    Processes the input data to create a feature matrix based on EDA insights.\n",
    "\n",
    "    Args:\n",
    "        data (pd.DataFrame): Input DataFrame containing 'email', 'subject', and 'spam'.\n",
    "\n",
    "    Returns:\n",
    "        pd.DataFrame: Feature matrix (X_train) with engineered features.\n",
    "    \"\"\"\n",
    "    \n",
    "    data['word_length'] = data['email'].apply(lambda x: len(x.split()))\n",
    "    data['char_length'] = data['email'].str.len()\n",
    "    data['many_words'] = (data['word_length'] >= 300).astype(int)\n",
    "    data['many_chars'] = (data['char_length'] >= 3000).astype(int)\n",
    "\n",
    "\n",
    "    data['capital_letter_count'] = data['subject'].str.count(r\"[A-Z]\")\n",
    "    data['capital_letter_count'] = data['capital_letter_count'].fillna(value=0)\n",
    "    data['exclamations'] = data['email'].str.count(r'!')\n",
    "    data['many_exclamations'] = (data['exclamations'] >= 3).astype(int)\n",
    "\n",
    "    \n",
    "    replies = r'Subject:\\s*Re:'\n",
    "    forwards = r'Subject:\\s*Fw:'\n",
    "    data['is_reply'] = data['subject'].str.contains(replies, regex=True, case=False, na=False).astype(int)\n",
    "    data['is_forward'] = data['subject'].str.contains(forwards, regex=True, case=False, na=False).astype(int)\n",
    "    \n",
    "    data['likely_ham'] = data['is_reply']\n",
    "\n",
    "    spam_words = ['href', 'size', 'meta', '<head>', 'font', '<br>', 'offer', 'money']\n",
    "    word_matrix = words_in_texts(spam_words, data['email'])\n",
    "    word_features = pd.DataFrame(word_matrix, columns=spam_words, index=data.index)\n",
    "    \n",
    "    # Add the spammy word features to the main DataFrame\n",
    "    data = pd.concat([data, word_features], axis=1)\n",
    "\n",
    "    if 'spam' in data.columns:\n",
    "        X_train = data.drop(columns=['email', 'subject', 'spam'])\n",
    "    else:\n",
    "        X_train = data.drop(columns=['email', 'subject'])\n",
    "\n",
    "    return X_train"
   ]
  },
  {
   "cell_type": "code",
   "execution_count": 17,
   "metadata": {},
   "outputs": [
    {
     "data": {
      "text/html": [
       "<div>\n",
       "<style scoped>\n",
       "    .dataframe tbody tr th:only-of-type {\n",
       "        vertical-align: middle;\n",
       "    }\n",
       "\n",
       "    .dataframe tbody tr th {\n",
       "        vertical-align: top;\n",
       "    }\n",
       "\n",
       "    .dataframe thead th {\n",
       "        text-align: right;\n",
       "    }\n",
       "</style>\n",
       "<table border=\"1\" class=\"dataframe\">\n",
       "  <thead>\n",
       "    <tr style=\"text-align: right;\">\n",
       "      <th></th>\n",
       "      <th>id</th>\n",
       "      <th>word_length</th>\n",
       "      <th>char_length</th>\n",
       "      <th>many_words</th>\n",
       "      <th>many_chars</th>\n",
       "      <th>capital_letter_count</th>\n",
       "      <th>exclamations</th>\n",
       "      <th>many_exclamations</th>\n",
       "      <th>is_reply</th>\n",
       "      <th>is_forward</th>\n",
       "      <th>likely_ham</th>\n",
       "      <th>href</th>\n",
       "      <th>size</th>\n",
       "      <th>meta</th>\n",
       "      <th>&lt;head&gt;</th>\n",
       "      <th>font</th>\n",
       "      <th>&lt;br&gt;</th>\n",
       "      <th>offer</th>\n",
       "      <th>money</th>\n",
       "    </tr>\n",
       "  </thead>\n",
       "  <tbody>\n",
       "    <tr>\n",
       "      <th>0</th>\n",
       "      <td>7657</td>\n",
       "      <td>222</td>\n",
       "      <td>1641</td>\n",
       "      <td>0</td>\n",
       "      <td>0</td>\n",
       "      <td>2</td>\n",
       "      <td>2</td>\n",
       "      <td>0</td>\n",
       "      <td>0</td>\n",
       "      <td>0</td>\n",
       "      <td>0</td>\n",
       "      <td>0</td>\n",
       "      <td>0</td>\n",
       "      <td>0</td>\n",
       "      <td>0</td>\n",
       "      <td>0</td>\n",
       "      <td>0</td>\n",
       "      <td>0</td>\n",
       "      <td>0</td>\n",
       "    </tr>\n",
       "    <tr>\n",
       "      <th>1</th>\n",
       "      <td>6911</td>\n",
       "      <td>617</td>\n",
       "      <td>4713</td>\n",
       "      <td>1</td>\n",
       "      <td>1</td>\n",
       "      <td>2</td>\n",
       "      <td>0</td>\n",
       "      <td>0</td>\n",
       "      <td>0</td>\n",
       "      <td>0</td>\n",
       "      <td>0</td>\n",
       "      <td>0</td>\n",
       "      <td>0</td>\n",
       "      <td>0</td>\n",
       "      <td>0</td>\n",
       "      <td>0</td>\n",
       "      <td>0</td>\n",
       "      <td>0</td>\n",
       "      <td>0</td>\n",
       "    </tr>\n",
       "    <tr>\n",
       "      <th>2</th>\n",
       "      <td>6074</td>\n",
       "      <td>162</td>\n",
       "      <td>1399</td>\n",
       "      <td>0</td>\n",
       "      <td>0</td>\n",
       "      <td>3</td>\n",
       "      <td>3</td>\n",
       "      <td>1</td>\n",
       "      <td>1</td>\n",
       "      <td>0</td>\n",
       "      <td>1</td>\n",
       "      <td>0</td>\n",
       "      <td>0</td>\n",
       "      <td>0</td>\n",
       "      <td>0</td>\n",
       "      <td>0</td>\n",
       "      <td>0</td>\n",
       "      <td>0</td>\n",
       "      <td>0</td>\n",
       "    </tr>\n",
       "    <tr>\n",
       "      <th>3</th>\n",
       "      <td>4376</td>\n",
       "      <td>682</td>\n",
       "      <td>4435</td>\n",
       "      <td>1</td>\n",
       "      <td>1</td>\n",
       "      <td>12</td>\n",
       "      <td>2</td>\n",
       "      <td>0</td>\n",
       "      <td>0</td>\n",
       "      <td>0</td>\n",
       "      <td>0</td>\n",
       "      <td>0</td>\n",
       "      <td>0</td>\n",
       "      <td>0</td>\n",
       "      <td>0</td>\n",
       "      <td>0</td>\n",
       "      <td>0</td>\n",
       "      <td>0</td>\n",
       "      <td>0</td>\n",
       "    </tr>\n",
       "    <tr>\n",
       "      <th>4</th>\n",
       "      <td>5766</td>\n",
       "      <td>2387</td>\n",
       "      <td>32857</td>\n",
       "      <td>1</td>\n",
       "      <td>1</td>\n",
       "      <td>10</td>\n",
       "      <td>44</td>\n",
       "      <td>1</td>\n",
       "      <td>0</td>\n",
       "      <td>0</td>\n",
       "      <td>0</td>\n",
       "      <td>1</td>\n",
       "      <td>1</td>\n",
       "      <td>0</td>\n",
       "      <td>1</td>\n",
       "      <td>1</td>\n",
       "      <td>1</td>\n",
       "      <td>1</td>\n",
       "      <td>0</td>\n",
       "    </tr>\n",
       "    <tr>\n",
       "      <th>...</th>\n",
       "      <td>...</td>\n",
       "      <td>...</td>\n",
       "      <td>...</td>\n",
       "      <td>...</td>\n",
       "      <td>...</td>\n",
       "      <td>...</td>\n",
       "      <td>...</td>\n",
       "      <td>...</td>\n",
       "      <td>...</td>\n",
       "      <td>...</td>\n",
       "      <td>...</td>\n",
       "      <td>...</td>\n",
       "      <td>...</td>\n",
       "      <td>...</td>\n",
       "      <td>...</td>\n",
       "      <td>...</td>\n",
       "      <td>...</td>\n",
       "      <td>...</td>\n",
       "      <td>...</td>\n",
       "    </tr>\n",
       "    <tr>\n",
       "      <th>7508</th>\n",
       "      <td>5734</td>\n",
       "      <td>60</td>\n",
       "      <td>465</td>\n",
       "      <td>0</td>\n",
       "      <td>0</td>\n",
       "      <td>2</td>\n",
       "      <td>0</td>\n",
       "      <td>0</td>\n",
       "      <td>0</td>\n",
       "      <td>0</td>\n",
       "      <td>0</td>\n",
       "      <td>0</td>\n",
       "      <td>0</td>\n",
       "      <td>0</td>\n",
       "      <td>0</td>\n",
       "      <td>0</td>\n",
       "      <td>0</td>\n",
       "      <td>0</td>\n",
       "      <td>0</td>\n",
       "    </tr>\n",
       "    <tr>\n",
       "      <th>7509</th>\n",
       "      <td>5191</td>\n",
       "      <td>978</td>\n",
       "      <td>7054</td>\n",
       "      <td>1</td>\n",
       "      <td>1</td>\n",
       "      <td>2</td>\n",
       "      <td>36</td>\n",
       "      <td>1</td>\n",
       "      <td>0</td>\n",
       "      <td>0</td>\n",
       "      <td>0</td>\n",
       "      <td>0</td>\n",
       "      <td>0</td>\n",
       "      <td>0</td>\n",
       "      <td>0</td>\n",
       "      <td>0</td>\n",
       "      <td>0</td>\n",
       "      <td>1</td>\n",
       "      <td>1</td>\n",
       "    </tr>\n",
       "    <tr>\n",
       "      <th>7510</th>\n",
       "      <td>5390</td>\n",
       "      <td>279</td>\n",
       "      <td>1732</td>\n",
       "      <td>0</td>\n",
       "      <td>0</td>\n",
       "      <td>2</td>\n",
       "      <td>3</td>\n",
       "      <td>1</td>\n",
       "      <td>0</td>\n",
       "      <td>0</td>\n",
       "      <td>0</td>\n",
       "      <td>0</td>\n",
       "      <td>0</td>\n",
       "      <td>0</td>\n",
       "      <td>0</td>\n",
       "      <td>0</td>\n",
       "      <td>0</td>\n",
       "      <td>1</td>\n",
       "      <td>0</td>\n",
       "    </tr>\n",
       "    <tr>\n",
       "      <th>7511</th>\n",
       "      <td>860</td>\n",
       "      <td>172</td>\n",
       "      <td>1098</td>\n",
       "      <td>0</td>\n",
       "      <td>0</td>\n",
       "      <td>6</td>\n",
       "      <td>0</td>\n",
       "      <td>0</td>\n",
       "      <td>1</td>\n",
       "      <td>0</td>\n",
       "      <td>1</td>\n",
       "      <td>0</td>\n",
       "      <td>0</td>\n",
       "      <td>0</td>\n",
       "      <td>0</td>\n",
       "      <td>0</td>\n",
       "      <td>0</td>\n",
       "      <td>0</td>\n",
       "      <td>0</td>\n",
       "    </tr>\n",
       "    <tr>\n",
       "      <th>7512</th>\n",
       "      <td>7270</td>\n",
       "      <td>134</td>\n",
       "      <td>812</td>\n",
       "      <td>0</td>\n",
       "      <td>0</td>\n",
       "      <td>3</td>\n",
       "      <td>1</td>\n",
       "      <td>0</td>\n",
       "      <td>1</td>\n",
       "      <td>0</td>\n",
       "      <td>1</td>\n",
       "      <td>0</td>\n",
       "      <td>0</td>\n",
       "      <td>0</td>\n",
       "      <td>0</td>\n",
       "      <td>0</td>\n",
       "      <td>0</td>\n",
       "      <td>0</td>\n",
       "      <td>0</td>\n",
       "    </tr>\n",
       "  </tbody>\n",
       "</table>\n",
       "<p>7513 rows × 19 columns</p>\n",
       "</div>"
      ],
      "text/plain": [
       "        id  word_length  char_length  many_words  many_chars  \\\n",
       "0     7657          222         1641           0           0   \n",
       "1     6911          617         4713           1           1   \n",
       "2     6074          162         1399           0           0   \n",
       "3     4376          682         4435           1           1   \n",
       "4     5766         2387        32857           1           1   \n",
       "...    ...          ...          ...         ...         ...   \n",
       "7508  5734           60          465           0           0   \n",
       "7509  5191          978         7054           1           1   \n",
       "7510  5390          279         1732           0           0   \n",
       "7511   860          172         1098           0           0   \n",
       "7512  7270          134          812           0           0   \n",
       "\n",
       "      capital_letter_count  exclamations  many_exclamations  is_reply  \\\n",
       "0                        2             2                  0         0   \n",
       "1                        2             0                  0         0   \n",
       "2                        3             3                  1         1   \n",
       "3                       12             2                  0         0   \n",
       "4                       10            44                  1         0   \n",
       "...                    ...           ...                ...       ...   \n",
       "7508                     2             0                  0         0   \n",
       "7509                     2            36                  1         0   \n",
       "7510                     2             3                  1         0   \n",
       "7511                     6             0                  0         1   \n",
       "7512                     3             1                  0         1   \n",
       "\n",
       "      is_forward  likely_ham  href  size  meta  <head>  font  <br>  offer  \\\n",
       "0              0           0     0     0     0       0     0     0      0   \n",
       "1              0           0     0     0     0       0     0     0      0   \n",
       "2              0           1     0     0     0       0     0     0      0   \n",
       "3              0           0     0     0     0       0     0     0      0   \n",
       "4              0           0     1     1     0       1     1     1      1   \n",
       "...          ...         ...   ...   ...   ...     ...   ...   ...    ...   \n",
       "7508           0           0     0     0     0       0     0     0      0   \n",
       "7509           0           0     0     0     0       0     0     0      1   \n",
       "7510           0           0     0     0     0       0     0     0      1   \n",
       "7511           0           1     0     0     0       0     0     0      0   \n",
       "7512           0           1     0     0     0       0     0     0      0   \n",
       "\n",
       "      money  \n",
       "0         0  \n",
       "1         0  \n",
       "2         0  \n",
       "3         0  \n",
       "4         0  \n",
       "...     ...  \n",
       "7508      0  \n",
       "7509      1  \n",
       "7510      0  \n",
       "7511      0  \n",
       "7512      0  \n",
       "\n",
       "[7513 rows x 19 columns]"
      ]
     },
     "metadata": {},
     "output_type": "display_data"
    },
    {
     "data": {
      "text/plain": [
       "0       0\n",
       "1       0\n",
       "2       0\n",
       "3       0\n",
       "4       0\n",
       "       ..\n",
       "7508    0\n",
       "7509    1\n",
       "7510    0\n",
       "7511    0\n",
       "7512    0\n",
       "Name: spam, Length: 7513, dtype: int64"
      ]
     },
     "metadata": {},
     "output_type": "display_data"
    }
   ],
   "source": [
    "X_train = process(train)\n",
    "display(X_train)\n",
    "Y_train = train['spam']\n",
    "display(Y_train)"
   ]
  },
  {
   "cell_type": "code",
   "execution_count": 18,
   "metadata": {},
   "outputs": [
    {
     "data": {
      "text/plain": [
       "id                      0\n",
       "word_length             0\n",
       "char_length             0\n",
       "many_words              0\n",
       "many_chars              0\n",
       "capital_letter_count    0\n",
       "exclamations            0\n",
       "many_exclamations       0\n",
       "is_reply                0\n",
       "is_forward              0\n",
       "likely_ham              0\n",
       "href                    0\n",
       "size                    0\n",
       "meta                    0\n",
       "<head>                  0\n",
       "font                    0\n",
       "<br>                    0\n",
       "offer                   0\n",
       "money                   0\n",
       "dtype: int64"
      ]
     },
     "execution_count": 18,
     "metadata": {},
     "output_type": "execute_result"
    }
   ],
   "source": [
    "X_train.isna().sum()"
   ]
  },
  {
   "cell_type": "markdown",
   "metadata": {
    "deletable": false,
    "editable": false
   },
   "source": [
    "<br>\n",
    "\n",
    "---\n",
    "\n",
    "# Question 3\n",
    "\n",
    "### Grading Scheme\n",
    "\n",
    "Your grade for this question will be based on your model’s accuracy when making predictions on the training set and your model’s accuracy when making predictions on the test set. The tables below provide scoring guidelines. If your accuracy lies in a particular range, you will receive the number of points associated with that range.\n",
    "\n",
    "**Important**: While your training accuracy can be checked at any time in this notebook, your test accuracy can only be checked by submitting your model’s predictions to Gradescope. **You will only be able to submit your test set predictions to Gradescope up to 4 times per day**. In the case that you are approved for an extension, you are granted 4 more submissions for each day the deadline has been extended. Plan ahead to make sure you have enough time to fine-tune your model! The thresholds are as follows:\n",
    "\n",
    "Points | 5 | 3 | 1.5 | 0\n",
    "--- | --- | --- | --- | ---\n",
    "**Training** Accuracy | 85% and Above | \\[80, 85) | \\[70, 80) | Below 70%\n",
    "\n",
    "Points | 10 | 6 | 3 | 0\n",
    "--- | --- | --- | --- | ---\n",
    "**Testing** Accuracy | 85% and Above | \\[80, 85) | \\[70, 80) | Below 70%\n",
    "\n",
    "\n",
    "<br><br>\n",
    "\n",
    "---\n",
    "\n",
    "## Question 3a: Train Predictions\n",
    "Assign your predictions for the class of each data point in the training set `train` to `train_predictions`."
   ]
  },
  {
   "cell_type": "code",
   "execution_count": 19,
   "metadata": {
    "tags": []
   },
   "outputs": [
    {
     "name": "stderr",
     "output_type": "stream",
     "text": [
      "/srv/conda/envs/notebook/lib/python3.11/site-packages/sklearn/linear_model/_logistic.py:458: ConvergenceWarning: lbfgs failed to converge (status=1):\n",
      "STOP: TOTAL NO. of ITERATIONS REACHED LIMIT.\n",
      "\n",
      "Increase the number of iterations (max_iter) or scale the data as shown in:\n",
      "    https://scikit-learn.org/stable/modules/preprocessing.html\n",
      "Please also refer to the documentation for alternative solver options:\n",
      "    https://scikit-learn.org/stable/modules/linear_model.html#logistic-regression\n",
      "  n_iter_i = _check_optimize_result(\n"
     ]
    },
    {
     "data": {
      "text/plain": [
       "0.8799414348462665"
      ]
     },
     "execution_count": 19,
     "metadata": {},
     "output_type": "execute_result"
    }
   ],
   "source": [
    "lr_model = LogisticRegression()\n",
    "lr_model.fit(X_train, Y_train)\n",
    "train_predictions = lr_model.predict(X_train)\n",
    "\n",
    "# Print your training accuracy. \n",
    "training_accuracy = np.mean(train_predictions == train[\"spam\"])\n",
    "training_accuracy"
   ]
  },
  {
   "cell_type": "code",
   "execution_count": 20,
   "metadata": {},
   "outputs": [
    {
     "data": {
      "text/html": [
       "<div>\n",
       "<style scoped>\n",
       "    .dataframe tbody tr th:only-of-type {\n",
       "        vertical-align: middle;\n",
       "    }\n",
       "\n",
       "    .dataframe tbody tr th {\n",
       "        vertical-align: top;\n",
       "    }\n",
       "\n",
       "    .dataframe thead th {\n",
       "        text-align: right;\n",
       "    }\n",
       "</style>\n",
       "<table border=\"1\" class=\"dataframe\">\n",
       "  <thead>\n",
       "    <tr style=\"text-align: right;\">\n",
       "      <th></th>\n",
       "      <th>id</th>\n",
       "      <th>word_length</th>\n",
       "      <th>char_length</th>\n",
       "      <th>many_words</th>\n",
       "      <th>many_chars</th>\n",
       "      <th>capital_letter_count</th>\n",
       "      <th>exclamations</th>\n",
       "      <th>many_exclamations</th>\n",
       "      <th>is_reply</th>\n",
       "      <th>is_forward</th>\n",
       "      <th>likely_ham</th>\n",
       "      <th>href</th>\n",
       "      <th>size</th>\n",
       "      <th>meta</th>\n",
       "      <th>&lt;head&gt;</th>\n",
       "      <th>font</th>\n",
       "      <th>&lt;br&gt;</th>\n",
       "      <th>offer</th>\n",
       "      <th>money</th>\n",
       "    </tr>\n",
       "  </thead>\n",
       "  <tbody>\n",
       "    <tr>\n",
       "      <th>0</th>\n",
       "      <td>0</td>\n",
       "      <td>1426</td>\n",
       "      <td>11703</td>\n",
       "      <td>1</td>\n",
       "      <td>1</td>\n",
       "      <td>12.0</td>\n",
       "      <td>0</td>\n",
       "      <td>0</td>\n",
       "      <td>0</td>\n",
       "      <td>0</td>\n",
       "      <td>0</td>\n",
       "      <td>0</td>\n",
       "      <td>0</td>\n",
       "      <td>0</td>\n",
       "      <td>0</td>\n",
       "      <td>0</td>\n",
       "      <td>0</td>\n",
       "      <td>0</td>\n",
       "      <td>0</td>\n",
       "    </tr>\n",
       "    <tr>\n",
       "      <th>1</th>\n",
       "      <td>1</td>\n",
       "      <td>99</td>\n",
       "      <td>773</td>\n",
       "      <td>0</td>\n",
       "      <td>0</td>\n",
       "      <td>7.0</td>\n",
       "      <td>7</td>\n",
       "      <td>1</td>\n",
       "      <td>0</td>\n",
       "      <td>0</td>\n",
       "      <td>0</td>\n",
       "      <td>0</td>\n",
       "      <td>0</td>\n",
       "      <td>0</td>\n",
       "      <td>0</td>\n",
       "      <td>0</td>\n",
       "      <td>0</td>\n",
       "      <td>1</td>\n",
       "      <td>0</td>\n",
       "    </tr>\n",
       "    <tr>\n",
       "      <th>2</th>\n",
       "      <td>2</td>\n",
       "      <td>22</td>\n",
       "      <td>1067</td>\n",
       "      <td>0</td>\n",
       "      <td>0</td>\n",
       "      <td>30.0</td>\n",
       "      <td>0</td>\n",
       "      <td>0</td>\n",
       "      <td>0</td>\n",
       "      <td>0</td>\n",
       "      <td>0</td>\n",
       "      <td>0</td>\n",
       "      <td>0</td>\n",
       "      <td>0</td>\n",
       "      <td>0</td>\n",
       "      <td>0</td>\n",
       "      <td>0</td>\n",
       "      <td>0</td>\n",
       "      <td>0</td>\n",
       "    </tr>\n",
       "    <tr>\n",
       "      <th>3</th>\n",
       "      <td>3</td>\n",
       "      <td>24</td>\n",
       "      <td>193</td>\n",
       "      <td>0</td>\n",
       "      <td>0</td>\n",
       "      <td>2.0</td>\n",
       "      <td>0</td>\n",
       "      <td>0</td>\n",
       "      <td>0</td>\n",
       "      <td>0</td>\n",
       "      <td>0</td>\n",
       "      <td>0</td>\n",
       "      <td>0</td>\n",
       "      <td>0</td>\n",
       "      <td>0</td>\n",
       "      <td>0</td>\n",
       "      <td>0</td>\n",
       "      <td>0</td>\n",
       "      <td>0</td>\n",
       "    </tr>\n",
       "    <tr>\n",
       "      <th>4</th>\n",
       "      <td>4</td>\n",
       "      <td>129</td>\n",
       "      <td>921</td>\n",
       "      <td>0</td>\n",
       "      <td>0</td>\n",
       "      <td>6.0</td>\n",
       "      <td>1</td>\n",
       "      <td>0</td>\n",
       "      <td>1</td>\n",
       "      <td>0</td>\n",
       "      <td>1</td>\n",
       "      <td>0</td>\n",
       "      <td>0</td>\n",
       "      <td>0</td>\n",
       "      <td>0</td>\n",
       "      <td>0</td>\n",
       "      <td>0</td>\n",
       "      <td>0</td>\n",
       "      <td>0</td>\n",
       "    </tr>\n",
       "    <tr>\n",
       "      <th>...</th>\n",
       "      <td>...</td>\n",
       "      <td>...</td>\n",
       "      <td>...</td>\n",
       "      <td>...</td>\n",
       "      <td>...</td>\n",
       "      <td>...</td>\n",
       "      <td>...</td>\n",
       "      <td>...</td>\n",
       "      <td>...</td>\n",
       "      <td>...</td>\n",
       "      <td>...</td>\n",
       "      <td>...</td>\n",
       "      <td>...</td>\n",
       "      <td>...</td>\n",
       "      <td>...</td>\n",
       "      <td>...</td>\n",
       "      <td>...</td>\n",
       "      <td>...</td>\n",
       "      <td>...</td>\n",
       "    </tr>\n",
       "    <tr>\n",
       "      <th>995</th>\n",
       "      <td>995</td>\n",
       "      <td>229</td>\n",
       "      <td>1516</td>\n",
       "      <td>0</td>\n",
       "      <td>0</td>\n",
       "      <td>4.0</td>\n",
       "      <td>2</td>\n",
       "      <td>0</td>\n",
       "      <td>1</td>\n",
       "      <td>0</td>\n",
       "      <td>1</td>\n",
       "      <td>0</td>\n",
       "      <td>0</td>\n",
       "      <td>0</td>\n",
       "      <td>0</td>\n",
       "      <td>0</td>\n",
       "      <td>0</td>\n",
       "      <td>0</td>\n",
       "      <td>0</td>\n",
       "    </tr>\n",
       "    <tr>\n",
       "      <th>996</th>\n",
       "      <td>996</td>\n",
       "      <td>45</td>\n",
       "      <td>253</td>\n",
       "      <td>0</td>\n",
       "      <td>0</td>\n",
       "      <td>5.0</td>\n",
       "      <td>0</td>\n",
       "      <td>0</td>\n",
       "      <td>1</td>\n",
       "      <td>0</td>\n",
       "      <td>1</td>\n",
       "      <td>0</td>\n",
       "      <td>0</td>\n",
       "      <td>0</td>\n",
       "      <td>0</td>\n",
       "      <td>0</td>\n",
       "      <td>0</td>\n",
       "      <td>0</td>\n",
       "      <td>0</td>\n",
       "    </tr>\n",
       "    <tr>\n",
       "      <th>997</th>\n",
       "      <td>997</td>\n",
       "      <td>97</td>\n",
       "      <td>620</td>\n",
       "      <td>0</td>\n",
       "      <td>0</td>\n",
       "      <td>3.0</td>\n",
       "      <td>0</td>\n",
       "      <td>0</td>\n",
       "      <td>1</td>\n",
       "      <td>0</td>\n",
       "      <td>1</td>\n",
       "      <td>0</td>\n",
       "      <td>0</td>\n",
       "      <td>0</td>\n",
       "      <td>0</td>\n",
       "      <td>0</td>\n",
       "      <td>0</td>\n",
       "      <td>0</td>\n",
       "      <td>0</td>\n",
       "    </tr>\n",
       "    <tr>\n",
       "      <th>998</th>\n",
       "      <td>998</td>\n",
       "      <td>113</td>\n",
       "      <td>797</td>\n",
       "      <td>0</td>\n",
       "      <td>0</td>\n",
       "      <td>9.0</td>\n",
       "      <td>1</td>\n",
       "      <td>0</td>\n",
       "      <td>1</td>\n",
       "      <td>0</td>\n",
       "      <td>1</td>\n",
       "      <td>0</td>\n",
       "      <td>0</td>\n",
       "      <td>0</td>\n",
       "      <td>0</td>\n",
       "      <td>0</td>\n",
       "      <td>0</td>\n",
       "      <td>0</td>\n",
       "      <td>0</td>\n",
       "    </tr>\n",
       "    <tr>\n",
       "      <th>999</th>\n",
       "      <td>999</td>\n",
       "      <td>110</td>\n",
       "      <td>916</td>\n",
       "      <td>0</td>\n",
       "      <td>0</td>\n",
       "      <td>12.0</td>\n",
       "      <td>0</td>\n",
       "      <td>0</td>\n",
       "      <td>0</td>\n",
       "      <td>0</td>\n",
       "      <td>0</td>\n",
       "      <td>1</td>\n",
       "      <td>0</td>\n",
       "      <td>0</td>\n",
       "      <td>0</td>\n",
       "      <td>0</td>\n",
       "      <td>1</td>\n",
       "      <td>0</td>\n",
       "      <td>1</td>\n",
       "    </tr>\n",
       "  </tbody>\n",
       "</table>\n",
       "<p>1000 rows × 19 columns</p>\n",
       "</div>"
      ],
      "text/plain": [
       "      id  word_length  char_length  many_words  many_chars  \\\n",
       "0      0         1426        11703           1           1   \n",
       "1      1           99          773           0           0   \n",
       "2      2           22         1067           0           0   \n",
       "3      3           24          193           0           0   \n",
       "4      4          129          921           0           0   \n",
       "..   ...          ...          ...         ...         ...   \n",
       "995  995          229         1516           0           0   \n",
       "996  996           45          253           0           0   \n",
       "997  997           97          620           0           0   \n",
       "998  998          113          797           0           0   \n",
       "999  999          110          916           0           0   \n",
       "\n",
       "     capital_letter_count  exclamations  many_exclamations  is_reply  \\\n",
       "0                    12.0             0                  0         0   \n",
       "1                     7.0             7                  1         0   \n",
       "2                    30.0             0                  0         0   \n",
       "3                     2.0             0                  0         0   \n",
       "4                     6.0             1                  0         1   \n",
       "..                    ...           ...                ...       ...   \n",
       "995                   4.0             2                  0         1   \n",
       "996                   5.0             0                  0         1   \n",
       "997                   3.0             0                  0         1   \n",
       "998                   9.0             1                  0         1   \n",
       "999                  12.0             0                  0         0   \n",
       "\n",
       "     is_forward  likely_ham  href  size  meta  <head>  font  <br>  offer  \\\n",
       "0             0           0     0     0     0       0     0     0      0   \n",
       "1             0           0     0     0     0       0     0     0      1   \n",
       "2             0           0     0     0     0       0     0     0      0   \n",
       "3             0           0     0     0     0       0     0     0      0   \n",
       "4             0           1     0     0     0       0     0     0      0   \n",
       "..          ...         ...   ...   ...   ...     ...   ...   ...    ...   \n",
       "995           0           1     0     0     0       0     0     0      0   \n",
       "996           0           1     0     0     0       0     0     0      0   \n",
       "997           0           1     0     0     0       0     0     0      0   \n",
       "998           0           1     0     0     0       0     0     0      0   \n",
       "999           0           0     1     0     0       0     0     1      0   \n",
       "\n",
       "     money  \n",
       "0        0  \n",
       "1        0  \n",
       "2        0  \n",
       "3        0  \n",
       "4        0  \n",
       "..     ...  \n",
       "995      0  \n",
       "996      0  \n",
       "997      0  \n",
       "998      0  \n",
       "999      1  \n",
       "\n",
       "[1000 rows x 19 columns]"
      ]
     },
     "execution_count": 20,
     "metadata": {},
     "output_type": "execute_result"
    }
   ],
   "source": [
    "X_test = process(test)\n",
    "X_test"
   ]
  },
  {
   "cell_type": "code",
   "execution_count": 21,
   "metadata": {},
   "outputs": [
    {
     "data": {
      "text/plain": [
       "id                      0\n",
       "word_length             0\n",
       "char_length             0\n",
       "many_words              0\n",
       "many_chars              0\n",
       "capital_letter_count    0\n",
       "exclamations            0\n",
       "many_exclamations       0\n",
       "is_reply                0\n",
       "is_forward              0\n",
       "likely_ham              0\n",
       "href                    0\n",
       "size                    0\n",
       "meta                    0\n",
       "<head>                  0\n",
       "font                    0\n",
       "<br>                    0\n",
       "offer                   0\n",
       "money                   0\n",
       "dtype: int64"
      ]
     },
     "execution_count": 21,
     "metadata": {},
     "output_type": "execute_result"
    }
   ],
   "source": [
    "X_test.isna().sum()"
   ]
  },
  {
   "cell_type": "code",
   "execution_count": 22,
   "metadata": {},
   "outputs": [
    {
     "name": "stdout",
     "output_type": "stream",
     "text": [
      "1192 176 726 5419\n",
      "0.8799414348462665 0.8713450292397661 0.62148070907195\n"
     ]
    }
   ],
   "source": [
    "tp = confusion_matrix(Y_train, train_predictions)[1, 1]\n",
    "fn = confusion_matrix(Y_train, train_predictions)[1, 0]\n",
    "fp = confusion_matrix(Y_train, train_predictions)[0, 1]\n",
    "tn = confusion_matrix(Y_train, train_predictions)[0, 0]\n",
    "print(tp, fp, fn, tn)\n",
    "accuracy = (tp+tn)/(tp+fp+fn+tn)\n",
    "precision = tp/(tp+fp)\n",
    "recall = tp/(tp+fn)\n",
    "print(accuracy, precision, recall)"
   ]
  },
  {
   "cell_type": "code",
   "execution_count": 23,
   "metadata": {
    "deletable": false,
    "editable": false
   },
   "outputs": [
    {
     "data": {
      "text/html": [
       "<p><strong><pre style='display: inline;'>q3a</pre></strong> passed! 🌟</p>"
      ],
      "text/plain": [
       "q3a results: All test cases passed!"
      ]
     },
     "execution_count": 23,
     "metadata": {},
     "output_type": "execute_result"
    }
   ],
   "source": [
    "grader.check(\"q3a\")"
   ]
  },
  {
   "cell_type": "markdown",
   "metadata": {
    "deletable": false,
    "editable": false
   },
   "source": [
    "<br>\n",
    "\n",
    "---\n",
    "\n",
    "## Question 3b: Test Predictions\n",
    "\n",
    "The following code will write your predictions on the test dataset to a CSV file. **You will need to submit this file to the \"Project B2 Test Set Predictions\" assignment on Gradescope to get credit for this question.**\n",
    "\n",
    "Assign your predictions for the class of each datapoint in the test set `test` to a 1-dimensional array called `test_predictions`. **Please make sure you save your predictions to `test_predictions`, as this is how part of your score for this question will be determined.**\n",
    "\n",
    "**Remember that if you've performed transformations or featurization on the training data, you must also perform the same transformations on the test data in order to make predictions.** For example, if you've created features for the words \"drug\" and \"money\" on the training data, you must also extract the same features in order to use `scikit-learn`'s `.predict` method.\n",
    "\n",
    "**Gradescope limits you to 4 submissions per day to meet the threshold.** If you are approved for an extension, you are granted 4 more submissions for each day the deadline has been extended.\n",
    "\n",
    "The provided tests check that your predictions are in the correct format but are worth 0 points in the *Project B2 Coding assignment*. To evaluate your classifier accuracy, you must submit the CSV file to the *Project B2 Test Set Predictions* assignment."
   ]
  },
  {
   "cell_type": "code",
   "execution_count": 24,
   "metadata": {
    "tags": []
   },
   "outputs": [],
   "source": [
    "test_predictions = lr_model.predict(X_test)"
   ]
  },
  {
   "cell_type": "code",
   "execution_count": 25,
   "metadata": {
    "deletable": false,
    "editable": false
   },
   "outputs": [
    {
     "data": {
      "text/html": [
       "<p><strong><pre style='display: inline;'>q3b</pre></strong> passed! 🍀</p>"
      ],
      "text/plain": [
       "q3b results: All test cases passed!"
      ]
     },
     "execution_count": 25,
     "metadata": {},
     "output_type": "execute_result"
    }
   ],
   "source": [
    "grader.check(\"q3b\")"
   ]
  },
  {
   "cell_type": "markdown",
   "metadata": {},
   "source": [
    "The following cell generates a CSV file with your predictions. **You must submit this CSV file to the \"Project B2 Test Set Predictions\" assignment on Gradescope to get credit for this question.** You can only submit to Gradescope a maximum of 4 times per day, so please use your submissions wisely!"
   ]
  },
  {
   "cell_type": "code",
   "execution_count": 26,
   "metadata": {},
   "outputs": [
    {
     "name": "stdout",
     "output_type": "stream",
     "text": [
      "Created a CSV file: submission_20241205_231901.csv.\n"
     ]
    },
    {
     "data": {
      "text/html": [
       "Download your test prediction <a href='submission_20241205_231901.csv' download>here</a>."
      ],
      "text/plain": [
       "<IPython.core.display.HTML object>"
      ]
     },
     "metadata": {},
     "output_type": "display_data"
    },
    {
     "name": "stdout",
     "output_type": "stream",
     "text": [
      "You may now upload this CSV file to Gradescope for scoring.\n"
     ]
    }
   ],
   "source": [
    "# Assuming that your predictions on the test set are stored in a 1-dimensional array called\n",
    "# test_predictions. Feel free to modify this cell as long you create a CSV in the right format.\n",
    "\n",
    "# Construct and save the submission:\n",
    "submission_df = pd.DataFrame({\n",
    "    \"Id\": test['id'], \n",
    "    \"Class\": test_predictions,\n",
    "}, columns=['Id', 'Class'])\n",
    "timestamp = datetime.now().strftime(\"%Y%m%d_%H%M%S\")\n",
    "filename = \"submission_{}.csv\".format(timestamp)\n",
    "submission_df.to_csv(filename, index=False)\n",
    "\n",
    "print('Created a CSV file: {}.'.format(\"submission_{}.csv\".format(timestamp)))\n",
    "display(HTML(\"Download your test prediction <a href='\" + filename + \"' download>here</a>.\"))\n",
    "print('You may now upload this CSV file to Gradescope for scoring.')#"
   ]
  },
  {
   "cell_type": "markdown",
   "metadata": {},
   "source": [
    "<br/>\n",
    "<hr style=\"border: 1px solid #fdb515;\" />\n",
    "\n",
    "# Analyzing Your Model\n",
    "\n",
    "Congratulations on completing your model! In the next few questions, we'll ask you to comment on your process for building a successful model and better understand the amount of misclassifications your model makes. "
   ]
  },
  {
   "cell_type": "markdown",
   "metadata": {
    "deletable": false,
    "editable": false
   },
   "source": [
    "<!-- BEGIN QUESTION -->\n",
    "\n",
    "<br>\n",
    "\n",
    "---\n",
    "\n",
    "# Question 4\n",
    "\n",
    "Describe the process of improving your model. You should use at least 2-3 sentences each to address the following questions:\n",
    "\n",
    "1. How did you find better features for your model?\n",
    "2. What did you try that worked or didn't work?\n",
    "3. What was surprising in your search for good features?"
   ]
  },
  {
   "cell_type": "markdown",
   "metadata": {
    "deletable": false,
    "editable": false
   },
   "source": [
    "<!-- END QUESTION -->\n",
    "\n",
    "<!-- BEGIN QUESTION -->\n",
    "\n",
    "<br>\n",
    "\n",
    "---\n",
    "\n",
    "# Question 5: ROC Curve\n",
    "\n",
    "In most cases, we won't be able to get 0 false positives and 0 false negatives, so we have to compromise. For example, in the case of cancer screenings, false negatives are comparatively worse than false positives — a false negative means that a patient might not discover that they have cancer until it's too late. In contrast, a patient can receive another screening for a false positive.\n",
    "\n",
    "Recall that logistic regression calculates the probability that an example belongs to a particular class. To classify an example, we say that an email is spam if our classifier gives it $\\ge 0.5$ probability of being spam. However, **we can adjust that cutoff threshold**. We can say that an email is spam only if our classifier gives it $\\ge 0.7$ probability of being spam, for example. This is how we can trade off false positives and false negatives.\n",
    "\n",
    "The Receiver Operating Characteristic (ROC) curve shows this trade-off for each possible cutoff probability. In the cell below, plot an ROC curve for your final classifier (the one you use to make predictions for Gradescope) on the training data. [Lecture 23](https://ds100.org/fa24/lecture/lec23/) may be helpful.\n",
    "\n",
    "**Hint**: You'll want to use the `.predict_proba` method [(documentation)](https://scikit-learn.org/stable/modules/generated/sklearn.linear_model.LogisticRegression.html#sklearn.linear_model.LogisticRegression.predict_proba) for your classifier instead of `.predict` to get probabilities instead of binary predictions."
   ]
  },
  {
   "cell_type": "code",
   "execution_count": 27,
   "metadata": {
    "tags": []
   },
   "outputs": [
    {
     "data": {
      "text/plain": [
       "array([0.14438413, 0.10888657, 0.03774219, 0.16947775, 0.44530699,\n",
       "       0.18635289, 0.20708221, 0.43308695, 0.2676916 , 0.28842386])"
      ]
     },
     "metadata": {},
     "output_type": "display_data"
    },
    {
     "data": {
      "text/plain": [
       "0    0\n",
       "1    0\n",
       "2    0\n",
       "3    0\n",
       "4    0\n",
       "5    1\n",
       "6    0\n",
       "7    0\n",
       "8    0\n",
       "9    0\n",
       "Name: spam, dtype: int64"
      ]
     },
     "metadata": {},
     "output_type": "display_data"
    }
   ],
   "source": [
    "X_train = process(train)\n",
    "Y_prob = lr_model.predict_proba(X_train)[:, 1]\n",
    "display(Y_prob[:10])\n",
    "Y_train = train['spam']\n",
    "display(Y_train[:10])"
   ]
  },
  {
   "cell_type": "code",
   "execution_count": 28,
   "metadata": {},
   "outputs": [
    {
     "data": {
      "text/plain": [
       "array([0.14438413, 0.10888657, 0.03774219, 0.16947775, 0.44530699,\n",
       "       0.18635289, 0.20708221, 0.43308695, 0.2676916 , 0.28842386])"
      ]
     },
     "metadata": {},
     "output_type": "display_data"
    },
    {
     "data": {
      "text/plain": [
       "0    0\n",
       "1    0\n",
       "2    0\n",
       "3    0\n",
       "4    0\n",
       "5    1\n",
       "6    0\n",
       "7    0\n",
       "8    0\n",
       "9    0\n",
       "Name: spam, dtype: int64"
      ]
     },
     "metadata": {},
     "output_type": "display_data"
    },
    {
     "data": {
      "image/png": "[encoded data removed]",
      "text/plain": [
       "<Figure size 640x480 with 1 Axes>"
      ]
     },
     "metadata": {},
     "output_type": "display_data"
    }
   ],
   "source": [
    "X_train = process(train)\n",
    "Y_prob = lr_model.predict_proba(X_train)[:, 1]\n",
    "display(Y_prob[:10])\n",
    "Y_train = train['spam']\n",
    "display(Y_train[:10])\n",
    "thresholds = np.linspace(0, 1, 100)\n",
    "tpr_list = []\n",
    "fpr_list = []\n",
    "\n",
    "# Calculate the tpr and fpr for each threshold from 0 -> 1\n",
    "for t in thresholds:\n",
    "    label = (Y_prob >= t).astype(int)\n",
    "    tp = np.sum((label == 1) & (Y_train == 1)) \n",
    "    fp = np.sum((label == 1) & (Y_train == 0))\n",
    "    fn = np.sum((label == 0) & (Y_train == 1))\n",
    "    tn = np.sum((label == 0) & (Y_train == 0))\n",
    "\n",
    "    tpr= tp/(tp+fn)\n",
    "    fpr = fp/(fp+tn)\n",
    "\n",
    "    tpr_list.append(tpr)\n",
    "    fpr_list.append(fpr)\n",
    "    \n",
    "plt.plot(fpr_list, tpr_list, label='ROC Curve', color='orange')\n",
    "plt.xlabel('False Positive Rate')\n",
    "plt.ylabel('True Positive Rate')\n",
    "plt.title('ROC Curve');\n"
   ]
  },
  {
   "cell_type": "markdown",
   "metadata": {
    "deletable": false,
    "editable": false
   },
   "source": [
    "<!-- END QUESTION -->\n",
    "\n",
    "<br/>\n",
    "<hr style=\"border: 1px solid #fdb515;\" />\n",
    "\n",
    "# Diving Deeper\n",
    "\n",
    "So far, we’ve been looking at our model through the lens of accuracy. In the next two questions, we'll dive deeper into the complexities of analyzing our model's performance. In particular, we'll ask you to explore some ambiguous cases that can arise, even within the training data itself, and the consequences of misclassification. You may have already come across some of these cases unknowingly when building your model!"
   ]
  },
  {
   "cell_type": "markdown",
   "metadata": {},
   "source": [
    "<br><br>\n",
    "\n",
    "---\n",
    "\n",
    "## Question 6\n",
    "\n",
    "To help you better understand some of the challenges that arise with classification, we've selected three emails from the `train` `DataFrame` and provided them below. Each email highlights a different issue that could arise. Skim through each of the emails below before answering part a)."
   ]
  },
  {
   "cell_type": "markdown",
   "metadata": {},
   "source": [
    "### Example 1"
   ]
  },
  {
   "cell_type": "code",
   "execution_count": 29,
   "metadata": {},
   "outputs": [
    {
     "name": "stdout",
     "output_type": "stream",
     "text": [
      "spam: 1\n",
      "\n",
      "email:\n",
      "hello you two,\n",
      " \n",
      " i am so sorry catherine for not writing recently. i have just been vv busybeing a working mother and sometimes it all gets too much you know!! i cannot wait to see you both although we may meet at the airport on the 16/6 as that's the day we're going to france but i will see you both at bronagh's house for her 30th which we're going to on the way back from the airport. i am so excited about seeing you!!! liitle eva ( aine) was born on tuesday\n",
      "  she is absolutely incredible. poor bronagh is 11 dsays over!!\n",
      " sounds like you've been having an amazing time. hope you won't be too depressed to be back!!\n",
      " \n",
      " lots of love\n",
      " \n",
      " deirdre\n",
      " \"justin mason\" <jm@jmason.org> wrote:\n",
      " \n",
      " <  \n",
      " <  just a quick note -\n",
      " <  \n",
      " <  we've decided to go up to annapurna base camp instead of\n",
      " <  the jomsom trek - it's a bit more impressive visually\n",
      " <  (if a little soggier).   so as of tomorrow morning, ourselves\n",
      " <  and our guide bhadra will be leaping like gazelles up 4000-odd\n",
      " <  metres into the himalayas... we'll be sure to take a few\n",
      " <  pics on the way.  sorry for the bonus mail, but we have to tell\n",
      " <  someone because we forgot to tell the irish embassy ;)\n",
      " <  \n",
      " <  next update in 10-14 days, ish,\n",
      " <  \n",
      " <  --j.\n",
      " <  \n",
      " <  \n",
      " <  \n",
      " <  _______________________________________________\n",
      " <  travelogue mailing list\n",
      " <  travelogue@jmason.org\n",
      " <  http://jmason.org/mailman/listinfo/travelogue\n",
      " <  \n",
      " \n",
      " \n",
      "\n"
     ]
    }
   ],
   "source": [
    "# Just run this cell, don't modify it.\n",
    "\n",
    "print(\"spam: \" + str(train.loc[5216][\"spam\"]))\n",
    "print(\"\\nemail:\\n\" + train.loc[5216][\"email\"])"
   ]
  },
  {
   "cell_type": "markdown",
   "metadata": {},
   "source": [
    "### Example 2"
   ]
  },
  {
   "cell_type": "code",
   "execution_count": 30,
   "metadata": {},
   "outputs": [
    {
     "name": "stdout",
     "output_type": "stream",
     "text": [
      "spam: 0\n",
      "\n",
      "email:\n",
      "lifetime movie newsletter\n",
      " \n",
      " this week's movies to watch on lifetime\n",
      " \n",
      " [ http://www.lifetimetv.com/movies/index.html ]\n",
      " \n",
      " august 19, 2002\n",
      " \n",
      " *************************************************************************\n",
      " \n",
      " coming at you this week...\n",
      " \n",
      " 1) \"the secret life of zoey\" premiere!\n",
      " 2) the buzz about the upcoming movie\n",
      " 3) movies airing this week\n",
      " 4) big event: a martinez sunday\n",
      " 5) fun and games\n",
      " \n",
      " *************************************************************************\n",
      " \n",
      " \"the secret life of zoey\" premiere!\n",
      " \n",
      " take a sneak peek at lifetimes next exciting original movie, \"the secret life of zoey\" [ http://www.lifetimetv.com/movies/info/move3195.html ], airing on monday, august 19 at 9 pm et/pt. zoey's mom thought she knew everything about her perfect teenage daughter. but when she realizes that her child is addicted to drugs, both of their worlds spin out of control. this dramatic film delves into the topic of teenage drug addiction and features stellar performers mia farrow, andrew mccarthy and julia whelan, from tv's \"once and again.\" go behind the scenes with the cast [ http://www.lifetimetv.com/movies/originals/bio1.html ],\n",
      " read real-life recovery stories of teen drug addicts [ http://www.lifetimetv.com/reallife/health/features/teen_addiction.html ], and learn how to keep your kids drug-free with 10 expert tips [ http://www.lifetimetv.com/reallife/health/features/drug_free.html ].\n",
      " \n",
      " *************************************************************************\n",
      " \n",
      " the buzz about the upcoming movie\n",
      " \n",
      " people are already talking about the sensitive subject of kids and drug addiction featured in \"the secret life of zoey.\"\n",
      " lifetimetv.com community member belfast belle writes:\n",
      " \"my belief is that i started using drugs to fit in and to cope with things that happened to me. my mom died when i was 10. i had to live away from my dad and brothers. where i grew up i was sexually abused for years, but i didn't dare tell anyone. when i finally went to live with my dad and brothers, i had no self-esteem left. i experienced so much shame, and in my mind it seemed as if everyone knew what happened. drugs helped me to feel ok and like i was a part of something. when my dad died, i was devastated. it threw me into a full-blown addiction. my drug use landed me in rehab, in debt and in strained relationships with my brothers. thanks to the help of narcotics anonymous, i have been clean since december 28, 1991. i now have great relationships with my siblings. i love them more than they will ever know. i also have a beautiful seven-year-old daughter who has never seen her mother touch drugs. i don't have any desire to use, either -- just the desire to be the best pe\n",
      "  rson i can be.\"\n",
      " \n",
      " express yourself! tell us your thoughts on \"the secret life of zoey\" and let us know if addiction has affected your life. go to our message boards at http://boards.lifetimetv.com/webx?14@@.ee91dd6.\n",
      " \n",
      " *************************************************************************\n",
      " \n",
      " movies airing this week\n",
      " \n",
      " \"the wrong woman,\" premiering august 20 at 9 pm et/pt\n",
      " melanie is flirting with a married man -- her boss. when he turns up dead, she is framed for his murder! will the victim's wife help save melanie from jail? starring \"the division\" star nancy mckeon [ http://www.lifetimetv.com/shows/ip/portraits/0023/0023_index.html ].\n",
      " [ http://www.lifetimetv.com/movies/info/move2355.html ]\n",
      " \n",
      " \"hit and run,\" airing august 21 at 9 pm et/pt\n",
      " joanna is the ideal mother, wife and friend. but her \"perfect\" life is altered forever when she accidentally hits a young girl with her car and leaves the scene. what catches up with her first -- her conscience or the police? starring \"the division\" star lisa vidal\n",
      " [ http://www.lifetimetv.com/shows/division/bios/cast_lisa.html ].\n",
      " [ http://www.lifetimetv.com/movies/info/move2518.html ]\n",
      " \n",
      " \"get to the heart: the barbara mandrell story,\" premiering august 22 at 9 pm et/pt\n",
      " barbara mandrell plays herself in this inspiring autobiographical movie about the country-western singer's rise to fame and the car crash that nearly killed her. also starring dolly parton and kenny rogers. find out more about this grammy-winning crooner [ http://www.lifetimetv.com/shows/ip/portraits/9837/9837_index.html ].\n",
      " [ http://www.lifetimetv.com/movies/info/move3180.html ]\n",
      " \n",
      " \"road rage,\" airing august 23 at 9 pm et/pt\n",
      " it's just another day on the freeway for ellen carson, until she innocently cuts off eddie, a short-tempered delivery driver who is upset over recent deaths in his family. then ellen and her loved ones become the stalking targets of eddie's violent wrath. starring yasmine bleeth.\n",
      " [ http://www.lifetimetv.com/movies/info/move3002.html ]\n",
      " \n",
      " *************************************************************************\n",
      " \n",
      " big event: a martinez sunday\n",
      " tune in on sunday, august 25, for a day filled with movies showcasing heartthrob a martinez, who stars in lifetime's exciting new legal series, \"for the people\" [ http://www.lifetimetv.com/shows/ftpeople/index.html ].\n",
      " \n",
      " \"she-devil,\" airing august 25 at 12 pm et/pt\n",
      " when ruth's husband, bob, leaves her for another woman, ruth devises a devious plot to ruin both their lives piece by piece. it's a face-off between roseanne barr and meryl streep!\n",
      " [ http://www.lifetimetv.com/movies/info/move1455.html ]\n",
      " \n",
      " \"manhunt: search for the night stalker,\" airing august 25 at 2 pm et/pt\n",
      " this true story recalls how famed serial killer richard ramirez terrorized los angeles for six months by murdering people in their own homes. see how the cops finally caught this vicious criminal.\n",
      " [ http://www.lifetimetv.com/movies/info/move1881.html ]\n",
      " \n",
      " \"sweet dreams,\" airing august 25 at 4 pm et/pt\n",
      " she wakes up from a coma and nothing is as it seems. will she regain her memory and realize that her husband and his mistress are out to get her? starring tiffani-amber thiessen.\n",
      " [ http://www.lifetimetv.com/movies/info/move2676.html ]\n",
      " \n",
      " \"cruel justice,\" airing august 25 at 6 pm et/pt\n",
      " after his daughter's rapist is set free by the courts, a father seeks justice on his own terms.\n",
      " [ http://www.lifetimetv.com/movies/info/move3023.html ]\n",
      " \n",
      " ***********************************************************************\n",
      " \n",
      " fun and games\n",
      " think you're ultimate film fanatic? prove it! play cinema sequence and see if you really know all the star facts and flick stats [ http://www.lifetimetv.com/movies/games/cinemaseq/index.html ].\n",
      " \n",
      " ***********************************************************************\n",
      " \n",
      " subscription information for the lifetime movie newsletter\n",
      " \n",
      " please do not reply to this e-mail; it's automatically generated, and this mailbox is not read by anyone. therefore you will not get a response. if you wish to be removed from the lifetime movie newsletter mailing list, please send an e-mail to unsubscribe-movies@email.lifetimetv.com. if you are a my lifetime member and wish to add to or modify your current newsletter preferences, please go to http://www.lifetimetv.com/cgi/edit_profile.cgi and change your subscription options. if you need to write to us, please do so at subscriptions@lifetimetv.com. thank you.\n",
      " \n",
      "\n"
     ]
    }
   ],
   "source": [
    "# Just run this cell, don't modify it.\n",
    "\n",
    "print(\"spam: \" + str(train.loc[36][\"spam\"]))\n",
    "print(\"\\nemail:\\n\" + train.loc[36][\"email\"])"
   ]
  },
  {
   "cell_type": "markdown",
   "metadata": {},
   "source": [
    "### Example 3"
   ]
  },
  {
   "cell_type": "code",
   "execution_count": 31,
   "metadata": {},
   "outputs": [
    {
     "name": "stdout",
     "output_type": "stream",
     "text": [
      "spam: 0\n",
      "\n",
      "email:\n",
      "this is a multi part message in mime format.\n",
      " \n",
      " --_nextpart_1_bvfoditvghtocxfdvjnkcuwblfv\n",
      " content-type: text/plain; charset=\"us-ascii\"\n",
      " content-transfer-encoding: 7bit\n",
      " \n",
      " ........... with our telecoms partner bumblebee !\n",
      " \n",
      " don't get ripped off by expensive hotel, payphone and mobile charges. \n",
      " save, save, save on international calls with ryanair's phone partner. \n",
      " ************************************************************************\n",
      " *********\n",
      " \n",
      " you'll save up to 70% on international phone calls when you use our \n",
      " online phone card.  you can use the card from any phone in any country \n",
      " you visit and you won't have to worry about high phone charges \n",
      " when you call home or the office.\n",
      " \n",
      " buying a card couldn't be easier and it's totally secure.  simply go to\n",
      " http://www.bumblebeecommunications.com/lowcostcalls/  \n",
      "  to avail of this special offer for ryanair customers.\n",
      " \n",
      " it's another great deal from ryanair and our online phone \n",
      " partner, bumblebee communications. \n",
      " \n",
      "  \n",
      " \n",
      " \n",
      " \n",
      " \n",
      " \n",
      " \n",
      " \n",
      " =====================================================================\n",
      " \n",
      " e-mail disclaimer\n",
      " \n",
      " this e-mail and any files and attachments transmitted with it \n",
      " are confidential and may be legally privileged. they are intended \n",
      " solely for the use of the intended recipient.  any views and \n",
      " opinions expressed are those of the individual author/sender \n",
      " and are not necessarily shared or endorsed by ryanair holdings plc \n",
      " or any associated or related company. in particular e-mail \n",
      " transmissions are not binding for the purposes of forming \n",
      " a contract to sell airline seats, directly or via promotions, \n",
      " and do not form a contractual obligation of any type.   \n",
      " such contracts can only be formed in writing by post or fax, \n",
      " duly signed by a senior company executive, subject to approval \n",
      " by the board of directors.\n",
      " \n",
      " the content of this e-mail or any file or attachment transmitted \n",
      " with it may have been changed or altered without the consent \n",
      " of the author.  if you are not the intended recipient of this e-mail, \n",
      " you are hereby notified that any review, dissemination, disclosure, \n",
      " alteration, printing, circulation or transmission of, or any \n",
      " action taken or omitted in reliance on this e-mail or any file \n",
      " or attachment transmitted with it is prohibited and may be unlawful.\n",
      " \n",
      " if you have received this e-mail in error \n",
      " please notify ryanair holdings plc by emailing postmaster@ryanair.ie\n",
      " or contact ryanair holdings plc, dublin airport, co dublin, ireland.  \n",
      " \n",
      " --_nextpart_1_bvfoditvghtocxfdvjnkcuwblfv\n",
      " content-type: application/ms-tnef\n",
      " content-transfer-encoding: base64\n",
      " \n",
      " ej8+ijuqaqaqcaaeaaaaaaabaaeaaqeqbgaiaaaa5aqaaaaaaadoaaeigacagaaaaelqts5nawny\n",
      " b3nvznqgtwfpbc5ob3rladeiaq2abaacaaaaagacaaeegaeajwaaafnhdmugdxagdg8gnzalig9u\n",
      " igludgvybmf0aw9uywwgy2fsbhmhacgnaqwaawaoaaaa0gciab4aeqaqadqabqbzaqeggamadgaa\n",
      " anihcaaeabeakga0aauacwebcyabaceaaaaxnundqzu1m0zcnjvgotrcodjbote2nji0qjy5odi2\n",
      " naagbwedkayayagaadeaaaalaaiaaqaaaamajgaaaaaaawa2aaaaaabaadkaohxzserqwgeead0a\n",
      " aqaaaaeaaaaaaaaaagfhaaeaaaayaaaayz11czthpsa7cd1sewfuywlyo2w9q0hpvk1bsuwxltay\n",
      " mdgzmde2ndi1mlotnty1ngaaab4acaabaaaajwaaafnhdmugdxagdg8gnzalig9uigludgvybmf0\n",
      " aw9uywwgy2fsbhmhaaacaxeaaqaaabyaaaabwlbesgnvr3xmdo5jp7lazao6pgd8aaaeabomaqaa\n",
      " aawaaabdb3lszswgu2vhbgaeab0oaqaaaccaaabtyxzlihvwihrvidcwjsbvbibpbnrlcm5hdglv\n",
      " bmfsignhbgxziqaaagejeaeaaac7agaatwiaalseaabmwkz1tpw4mgmacgbyy3bnmti14jidq3rl\n",
      " eavbaqmb908kgakka+mcagnocsbz8gv0mcahewkad/mauh8evghvb7irxq5raweqxzl3bgagwxhf\n",
      " mwrgemks2xht2wjvcfc7gl8omdurwgxgzmmauasjawqznhfqc6yuic4dmcad8hroinuiysaosgwf\n",
      " kw0eiaqxzhrueyfcdqbqhwbiuqngicekogqecobeaibqxcc5mgvazxewib0fexajgb6qasagynku\n",
      " ia7aimaagxygcghvzr7hlb9hexajsb+wipcacckabgbiaxagcbdiifcgcx4wikrtqvzfjaa/jlge\n",
      " kaogc4aosasgyxteaqigb0aluadabaqghlpsunkacatwcigsh1eky/sfdsxwkitplf8tby5/l0od\n",
      " ikpzcgahkiiqihnhcsobdxae0g8gnzaujsdfkeuodwgj8cb5vwhgmfarib6tikqcigwlgo8qmtpf\n",
      " cyaemcaxeshha6d3nqiecdauiansjkei8cru1wuaolmfohucmhii8cckvttcdgqahmakoztcdyf2\n",
      " 7xdwi4eymtvqcjohaaaiypk8qwlnhoaztsv0jeu0d/8ociohb4aekb7bn/eioq3grguuikof8hkl\n",
      " ggckohm4fdnrbgqhhsbqiwbh/wcqeyeksh5gkzqymagqkjc7ivarigmiceegnwbtb3bbc1ai8gcy\n",
      " qdixaajacja6ly93r1auyiagfr8hbtnwdean8yxahyevprhqdwwgc3qocy83ap8gpdiimcalcamg\n",
      " iqa30qqa+zggimbjbzeikhmhahafwh8pjsvqnqaymaeaerbbo0l/rjuaccpaniafwanbj/ag/wea\n",
      " kee4c0zmjlieojxrikt/h3ukab/4cfbisyxlskugqgtwx1drfvigab4anrabaaaasaaaadxemtng\n",
      " n0mwntq3rdcxrjrdqtqwnzmyn0e4mjuxmzywmde5q0e5q0bdse9wtufjtdeuy2hvlmnvcnaucnlh\n",
      " bmfpci5jb20+aamagbd/////cwdyeaeaaaafapmqaqaaafoaaabtageadgblacaadqbwacaadabv\n",
      " acaanwawacuamga1acaabwbuacaaaqbuahqazqbyag4ayqb0agkabwbuageabaagagmayqbsagwa\n",
      " cwahac4arqbnaewaaaaaaasa9haaaaaaqaahmn0zcuheumibqaaimjpeduheumibawdep59oaaad\n",
      " ape/cqqaab4a+d8baaaadaaaaenvewxllcbtzwfuaaib+t8baaaaxqaaaaaaaadcp0diweiqgrs5\n",
      " caarl+gcaqaaaaaaaaavtz1swufoqulsl09vpuzjulnuiefetulosvnuukfusvzfiedst1vql0no\n",
      " pvjfq0lqsuvovfmvq049q09ztevtaaaaab4a+j8baaaafqaaafn5c3rlbsbbzg1pbmlzdhjhdg9y\n",
      " aaaaaaib+z8baaaahgaaaaaaaadcp0diweiqgrs5caarl+gcaqaaaaaaaaauaaaaawazqaaaaaad\n",
      " abpaaaaaab4ameabaaaabwaaaenpwuxfuwaahgaxqaeaaaahaaaaq09ztevtaaaeadhaaqaaaaca\n",
      " aabdt1lmrvmaab4aouabaaaaagaaac4aaaadaalzaqaaaasawieiiayaaaaaamaaaaaaaabgaaaa\n",
      " aa6faaaaaaaaawbwgqggbgaaaaaawaaaaaaaaeyaaaaauouaafmuaqaeahgbccagaaaaaadaaaaa\n",
      " aaaargaaaabuhqaaaqaaaauaaaaxmc4waaaaaamauieiiayaaaaaamaaaaaaaabgaaaaaagfaaaa\n",
      " aaaaqac6gqggbgaaaaaawaaaaaaaaeyaaaaayiuaaaaaaaaaaaaacwc9gqggbgaaaaaawaaaaaaa\n",
      " aeyaaaaaa4uaaaaaaaadamebccagaaaaaadaaaaaaaaargaaaaaqhqaaaaaaaamazoeiiayaaaaa\n",
      " amaaaaaaaabgaaaaabifaaaaaaaacwdlgqggbgaaaaaawaaaaaaaaeyaaaaabouaaaaaaaalaomb\n",
      " ccagaaaaaadaaaaaaaaargaaaacchqaaaaaaaasakqaaaaaacwajaaaaaaadaayqhr1s2qmabxb/\n",
      " agaaawaqeasaaaadabeqaqaaab4acbabaaaazqaaafdjvehpvvjuruxfq09nu1bbulrorvjcvu1c\n",
      " tevcruvet05ur0vuuklquevet0zgqllfwfbftlnjvkvit1rftcxqqvlqse9orufore1pqklmruni\n",
      " qvjhrvntqvzflfnbvkusu0eaaaaaagf/aaeaaabiaaaapeqxm0y3qza1nddenzfgnenbnda3mzi3\n",
      " qtgynteznjawmtldqtldqenit1znqulmms5jag8uy29ycc5yewfuywlylmnvbt4aeoq=\n",
      " \n",
      " \n",
      " --_nextpart_1_bvfoditvghtocxfdvjnkcuwblfv\n",
      " content-type: text/plain; charset=\"us-ascii\"\n",
      " content-description: footer\n",
      " \n",
      " ---\n",
      " you are currently subscribed to customers as: zzzz-ryanair@example.com\n",
      " to unsubscribe send a blank email to leave-customers-949326k@mail.ryanairmail.com\n",
      " \n",
      " --_nextpart_1_bvfoditvghtocxfdvjnkcuwblfv--\n",
      " \n",
      " \n",
      "\n"
     ]
    }
   ],
   "source": [
    "# Just run this cell, don't modify it.\n",
    "\n",
    "print(\"spam: \" + str(train.loc[1092][\"spam\"]))\n",
    "print(\"\\nemail:\\n\" + train.loc[1092][\"email\"])"
   ]
  },
  {
   "cell_type": "markdown",
   "metadata": {
    "deletable": false,
    "editable": false
   },
   "source": [
    "<!-- BEGIN QUESTION -->\n",
    "\n",
    "### Question 6a\n",
    "\n",
    "Pick at least **one** of the emails provided above to comment on. How would you classify the email (e.g., spam or ham), and does this align with the classification provided in the training data? What could be a reason someone would disagree with *your* classification of the email? In 2-3 sentences, explain your perspective and potential reasons for disagreement."
   ]
  },
  {
   "cell_type": "markdown",
   "metadata": {},
   "source": [
    "_I chose to look at the first email, and I believe I would classify it as a ham email and not a spam email. However, the classification in the training data suggests that it is a spam email. A reason someone may disagree is that this email contains numerous spelling errors, sporatic messages, and lots of exclamations marks. The exclamation marks is definitely something that may be put used as part of a classifier model to indicate spam emails. It was used in my own classifier model, so I understand why it might seemingly be spam. From my perspective, it looks like someone who is emailing carelessly and not taking into account any grammatical or spelling issues._"
   ]
  },
  {
   "cell_type": "markdown",
   "metadata": {
    "deletable": false,
    "editable": false
   },
   "source": [
    "<!-- END QUESTION -->\n",
    "\n",
    "<!-- BEGIN QUESTION -->\n",
    "\n",
    "### Question 6b\n",
    "\n",
    "As data scientists, we sometimes take the data to be a fixed “ground truth,” establishing the “correct” classification of emails. However, as you might have seen above, some emails can be ambiguous; people may disagree about whether an email is actually spam or ham. How does the ambiguity in our labeled data (spam or ham) affect our understanding of the model's predictions and the way we measure/evaluate our model's performance?"
   ]
  },
  {
   "cell_type": "markdown",
   "metadata": {},
   "source": [
    "_Ambiguity in labeled data introduces uncertainty, making it harder for the model to clearly differentiate between spam and ham. Since people might disagree on whether an email is spam, this inconsistency in labels can confuse the model and lead to predictions that seem incorrect, even though the data itself isn’t definitive. When evaluating the model, metrics like accuracy, precision, and recall may not fully capture its performance due to this subjectivity in the \"ground truth.\"_"
   ]
  },
  {
   "cell_type": "markdown",
   "metadata": {
    "deletable": false,
    "editable": false
   },
   "source": [
    "<!-- END QUESTION -->\n",
    "\n",
    "As a data scientist, we encourage you to think more critically about your data before establishing it as the \"ground truth.\" Whenever you're working on a specific problem, ask yourself:  \n",
    "1. Who “made” the data? Think about all the stages from when it was first generated, collected, and labeled before it ended up in a CSV file.\n",
    "2. What assumptions and biases are inherently present in the data?\n",
    "3. And finally, how does all this affect how you interpret your model’s performance?"
   ]
  },
  {
   "cell_type": "markdown",
   "metadata": {},
   "source": [
    "<br><br>\n",
    "\n",
    "---\n",
    "\n",
    "## Question 7\n",
    "\n",
    "In Question 6, we explored the instability present in the “ground truth” and how this affects our evaluation of our model. Now, let's start thinking about your model's interpretability and what that means more broadly for an email classification task. A model is considered interpretable if humans can easily understand the reasoning behind its predictions and classifications."
   ]
  },
  {
   "cell_type": "markdown",
   "metadata": {},
   "source": [
    "### Question 7a\n",
    "\n",
    "First, let's see if we can understand how our choice of features relates to how a particular email is classified. "
   ]
  },
  {
   "cell_type": "markdown",
   "metadata": {
    "deletable": false,
    "editable": false
   },
   "source": [
    "#### Part i\n",
    "\n",
    "Let’s take a look at the `simple_model` we provided you earlier that uses 5 features. We have provided the code below for ease of reference. You will examine how a particular feature influences how an email is classified. "
   ]
  },
  {
   "cell_type": "code",
   "execution_count": 32,
   "metadata": {
    "deletable": false,
    "editable": false
   },
   "outputs": [],
   "source": [
    "# Simple model introduced at the start of this notebook. Just pay attention to the features.\n",
    "some_words = ['drug', 'bank', 'prescription', 'memo', 'private']\n",
    "\n",
    "X_train = words_in_texts(some_words, train['email'])\n",
    "Y_train = np.array(train['spam'])\n",
    "\n",
    "simple_model = LogisticRegression()\n",
    "simple_model.fit(X_train, Y_train);"
   ]
  },
  {
   "cell_type": "markdown",
   "metadata": {
    "deletable": false,
    "editable": false
   },
   "source": [
    "Pick an email from the training set and assign its index to `email_idx`. Then, find **one** feature used in `simple_model` such that **removing** it changes how that email is classified. Assign this feature to  `feature_to_remove`.\n",
    "\n",
    "**Hint**: We suggest starting with finding spam emails that contain the features in our model. All the features in our simple model relate to spam emails, thus it is easier to find a spam email + remove a feature to get it to flip classes."
   ]
  },
  {
   "cell_type": "code",
   "execution_count": 33,
   "metadata": {
    "tags": []
   },
   "outputs": [
    {
     "name": "stdout",
     "output_type": "stream",
     "text": [
      "drug|bank|prescription|memo|private\n",
      "Email Index:19\n",
      "\n"
     ]
    },
    {
     "data": {
      "text/plain": [
       "'<html>\\n <head>\\n </head>\\n <center>\\n <h1>\\n <b><font face=\"arial black\"><font color=\"#0000ff\"><font size=+2>&nbsp;\\n free personal and business grants</font></font></font></b></h1></center>\\n \\n <p>&nbsp;\\n <center><table border=0 cellspacing=0 cellpadding=10 width=\"419\" bgcolor=\"#0000ff\" >\\n <tr>\\n <td width=\"397\" bgcolor=\"#ffff00\">\\n <center>\\n <h2>\\n <font face=\"arial narrow\">\" qualify for <u>at least</u> $25,000 in free\\n grants money - guaranteed! \"</font></h2></center>\\n </td>\\n </tr>\\n </table></center>\\n \\n <center>\\n <h3>\\n <font face=\"arial\"><font size=+0>each day over one million dollars in free\\n government<br>\\n grants&nbsp; is given away to people just like you for a wide<br>\\n variety of business and personal needs</font></font></h3></center>\\n <font face=\"verdana\"><font size=-1>&nbsp;&nbsp;&nbsp;&nbsp;&nbsp;&nbsp;&nbsp;\\n dear grant seeker,</font></font>\\n <blockquote><font face=\"verdana\"><font size=-1>in a moment, i\\'ll tell you\\n exactly <b>how &amp; where</b> to get grants. this <b>money</b> has to\\n be given away, <b>why</b> not to <b>you?</b></font></font></blockquote>\\n \\n <blockquote><font face=\"verdana\"><font size=-1>you may be thinking, \"how\\n can i get some of this free grants money\"</font></font></blockquote>\\n \\n <blockquote><font face=\"verdana\"><font size=-1>maybe you think it\\'s impossible\\n to get free money?</font></font></blockquote>\\n \\n <blockquote><font face=\"verdana\"><font size=-1>let me tell you it\\'s not\\n impossible! it\\'s a fact, ordinary people and businesses all across the\\n united states are receiving millions of dollars from these government and\\n private foundation\\'s everyday.</font></font></blockquote>\\n \\n <blockquote><font face=\"verdana\"><font size=-1>who can apply?</font></font></blockquote>\\n \\n <blockquote><font face=\"verdana\"><font size=-1><b>anyone</b> can apply\\n for a grant from 18 years old and up!</font></font></blockquote>\\n \\n <blockquote><font face=\"verdana\"><font size=-1>grants from $500.00 to $50,000.00\\n are possible! <b>grants</b> don\\'t have to be paid back,\\n <b>ever! </b>claim\\n your slice of the <b>free</b> american pie.</font></font></blockquote>\\n \\n <blockquote><font face=\"verdana\"><font size=-1>this money is not a loan,\\n trying to get money through a conventional bank can be very time consuming\\n and requires a lot of paperwork, only to find out that you\\'ve been denied.\\n these government agencies don\\'t have to operate under the same stringent\\n requirements that banks do.</font></font></blockquote>\\n \\n <blockquote><font face=\"verdana\"><font size=-1>you decide how much money\\n you need, as long as it\\'s a lawful amount and meets with the government\\n agencies criteria, the money is yours to keep and never has to be repaid.\\n this money is non taxable &amp; interest free.</font></font></blockquote>\\n \\n <blockquote><font face=\"verdana\"><font size=-1>none of these programs require\\n a credit check, collateral, security deposits or co-signers, you can apply\\n even if you have a bankruptcy or bad credit, it doesn\\'t matter, you as\\n a tax payer and u.s. citizen are entitled to this money.</font></font></blockquote>\\n \\n <blockquote><font face=\"verdana\"><font size=-1>there are currently over\\n 1,400 federal programs, 24,000 state programs, 30,000 private foundations\\n and 20,000 scholarship programs available.</font></font></blockquote>\\n \\n <blockquote><font face=\"verdana\"><font size=-1>this year over $30 billion\\n dollars in free personal and business government grants money will be given\\n away by government grants agencies.</font></font></blockquote>\\n \\n \\n <br>&nbsp;\\n <center><table border cellspacing=0 cellpadding=3 width=\"80%\" bordercolor=\"#ffcc66\" >\\n <tr>\\n <td width=\"100%\">\\n <center>\\n <h3>\\n <b><font face=\"arial\"><font color=\"#0000cc\"><font size=+0>government personal\\n and business grants facts:</font></font></font></b></h3></center>\\n <b><font face=\"verdana\"><font size=-1>over 20 million people get government\\n money every year:</font></font></b>\\n <ul><font face=\"verdana\"><font size=-1>1,000,000 entrepreneurs get money\\n to start or expand a business</font></font>\\n <p><font face=\"verdana\"><font size=-1>4,000,000 people get money to invest\\n in real estate</font></font>\\n <p><font face=\"verdana\"><font size=-1>6,000,000 people get money to go\\n to college</font></font>\\n <p><font face=\"verdana\"><font size=-1>10,000,000 people get free help and\\n training for a better job</font></font></ul>\\n </td>\\n </tr>\\n </table></center>\\n \\n <h2>\\n <b><font face=\"arial\"><font color=\"#cc0000\"><font size=+0>getting business\\n grants</font></font></font></b></h2>\\n \\n <blockquote><font face=\"verdana\"><font size=-1>anyone thinking about going\\n into business for themselves, or wanting to expand an existing business\\n should rush for the world\\'s largest \"one-stop-money-shop\" where free business\\n grants to start or expand a business is being held for you by the federal\\n government.</font></font></blockquote>\\n \\n <div style=\"margin-left: 1cm; margin-right: 1cm\"><font face=\"verdana\"><font size=-1>it\\n sounds absolutely incredible that people living right here in the united\\n states of america wouldn\\'t know that each year the world\\'s largest source\\n of free business help delivers:</font></font></div>\\n \\n <ul><font face=\"verdana\"><font size=-1>over $30 billion dollars in free\\n business grants and low-interest loans;</font></font>\\n <p><font face=\"verdana\"><font size=-1>over one-half trillion dollars in\\n procurement contracts; and</font></font>\\n <p><font face=\"verdana\"><font size=-1>over $32 billion dollars in free\\n consulting and research grants.</font></font></ul>\\n \\n <blockquote><font face=\"verdana\"><font size=-1>with an economy that remains\\n unpredictable, and a need for even greater economic development on all\\n fronts, the federal government is more willing than it ever has been before\\n to give you the money you need to own your own business and become your\\n own boss!</font></font></blockquote>\\n \\n <div style=\"margin-left: 1cm; margin-right: 1cm\"><font face=\"verdana\"><font size=-1>in\\n spite of the perception that people should not look to the government for\\n help, the great government give-away programs have remained so incredibly\\n huge that if each of the approximately 8 million businesses applied for\\n an equal share, they would each receive over $70,000.</font></font></div>\\n \\n <div style=\"margin-left: 1cm; margin-right: 1cm\"><font face=\"verdana\"><font size=-1>most\\n people never apply for free business grants because they somehow feel it\\n isn\\'t for them, feel there\\'s too much red-tape, or simply don\\'t know who\\n to contact.the fact is, however, that people from all walks of life do\\n receive free grants money and other benefits from the government, and you\\n should also.</font></font></div>\\n \\n <h2>\\n <b><font face=\"arial\"><font color=\"#cc0000\"><font size=+0>government grants\\n for personal need</font></font></font></b></h2>\\n \\n <blockquote><font face=\"verdana\"><font size=-1>help to buy a new home for\\n low income families, repair your home, rent, mortgage payments, utility\\n bills, purchase a new car, groceries, childcare, fuel, general living expenses,\\n academic tutoring, clothing, school supplies, housing assistance, legal\\n services, summer camp, debts, music lessons, art lessons, any extracurricular\\n activities, pay bills for senior citizens, real estate taxes, medical expenses\\n and general welfare. if you or someone you know suffered a fire lose there\\n are programs available to help in replacing necessities.</font></font></blockquote>\\n \\n <h2>\\n <font face=\"arial\"><font color=\"#cc0000\"><font size=+0>scholarships and\\n grants for education</font></font></font></h2>\\n \\n <blockquote><font face=\"verdana\"><font size=-1>grant money for preschool\\n children and nursery school education, private, primary and secondary schools,\\n men and women to further their education, scholarships for athlete\\'s, business\\n management, engineering, computer science, medical school, undergraduate,\\n graduate, professional, foreign studies and many more.</font></font></blockquote>\\n \\n <h3>\\n <b><font face=\"arial\"><font color=\"#cc0000\"><font size=+0>here\\'s how you\\n can get free grants<br>\\n in the shortest time possible</font></font></font></b></h3>\\n \\n <blockquote><font face=\"verdana\"><font size=-1>once you know how and where\\n to apply for a specific free grant, results are almost inevitable. the\\n government wants to give away this money. . . it is under congressional\\n mandate to do so! these funds are made available to help you, the tax payer.\\n all that\\'s required from you is the proper presentation of your grant request.\\n that\\'s all.</font></font></blockquote>\\n <font face=\"verdana\"><font size=-1>announcing...</font></font>\\n <center>\\n <h3 style=\"margin-left: 1cm; margin-right: 1cm; margin-top: 0cm\">\\n <b><font face=\"verdana\"><font color=\"#cc0000\"><font size=-1>\"the complete\\n guide to government grants\"</font></font></font></b></h3></center>\\n \\n <blockquote><font face=\"verdana\"><font size=-1>forget just about everything\\n you\\'ve seen or heard about government grants. what i\\'ve done is put together\\n a complete blueprint for researching, locating and obtaining government\\n grants. \"the complete guide to government grants\" is the most comprehensive\\n tool for obtaining free grant money, and it comes in an electronic book</font></font>\\n <br><font face=\"verdana\"><font size=-1>(e-book) format, meaning you can\\n download and start using it minutes after you order.</font></font></blockquote>\\n \\n <blockquote><font face=\"verdana\"><font color=\"#000000\"><font size=-1>the\\n complete guide to government grants will provide you with access to thousands\\n of grant and loan sources, with step by step instructions to proposal writing\\n and contact procedures.</font></font></font></blockquote>\\n <font face=\"verdana\"><font size=-1>in the complete guide to government\\n grants you\\'ll find:</font></font>\\n <blockquote><font face=\"verdana\"><font size=-1>step by step guidelines\\n to applying for government grants</font></font></blockquote>\\n \\n <blockquote><font face=\"verdana\"><font size=-1>direct access to over 1,400\\n grant, loan and assistance programs offered by the u.s. federal government.\\n all you need to do is click &amp; find your program from the detailed categorized\\n listings</font></font></blockquote>\\n \\n <blockquote><font face=\"verdana\"><font size=-1>direct access to thousands\\n of resources of state specific grant programs</font></font></blockquote>\\n \\n <blockquote><font face=\"verdana\"><font size=-1>name, phone number and address\\n of an expert in your state that will answer your grant related questions\\n and help you with the grant application... free of charge</font></font></blockquote>\\n \\n <blockquote><font face=\"verdana\"><font size=-1>online directory of government\\n supported venture capital firms</font></font></blockquote>\\n \\n <blockquote><font face=\"verdana\"><font size=-1>a unique search tool that\\n will allow you to generate a customized listing of recently announced grant\\n programs</font></font></blockquote>\\n \\n <blockquote><font face=\"verdana\"><font size=-1>government funding programs\\n for small businesses</font></font></blockquote>\\n \\n <blockquote><font face=\"verdana\"><font size=-1>top 100 government programs\\n (based on number of inquiries), discover what are the most sought after\\n government grants and assistant programs. claim your slice of the <b>free</b>\\n american pie</font></font></blockquote>\\n \\n <blockquote><font face=\"verdana\"><font size=-1>online directory of federal\\n and state resources for government scholarships and grants for education</font></font></blockquote>\\n \\n <blockquote><font face=\"verdana\"><font size=-1>step by step guidelines\\n to locating grants, loans and assistant programs for starting a new business\\n or expanding an existing one</font></font></blockquote>\\n \\n <blockquote><font face=\"verdana\"><font size=-1>how to get free small business\\n counseling and expert advice courtesy of the us government</font></font></blockquote>\\n \\n <blockquote><font face=\"verdana\"><font size=-1>government grants application\\n forms</font></font></blockquote>\\n \\n <blockquote><font face=\"verdana\"><font size=-1>direct access to thousands\\n of government grants programs covering: small businesses, home improvement,\\n home buying and homeownership, land acquisition, site preparation for housing,\\n health, assistance and services for the unemployed, job training, federal\\n employment, education, and much much more</font></font></blockquote>\\n \\n <blockquote><font face=\"verdana\"><font size=-1>how to develop and write\\n grant proposals that get results</font></font></blockquote>\\n \\n <blockquote><font face=\"verdana\"><font size=-1>...plus much more</font></font></blockquote>\\n <b><font face=\"verdana\"><font size=-1>the complete guide to government\\n grants is so comprehensive, it provides you with direct access to practically\\n every source of free government grants money currently available.</font></font></b>\\n <blockquote><font face=\"verdana\"><font size=-1>if you\\'re an american citizen\\n or resident, you are entitled to free grant money ranging from $500 to\\n $250,000 or more. if you are black you have already qualified for 15 programs,\\n being hispanic, you qualify for many programs. being a christian will get\\n you into 20 programs, there are also many other programs available for\\n different faiths, jewish, catholic. not having any money, will get you\\n into over 30 programs, 550 programs if you are unemployed, or underemployed.\\n the list and sources are endless.</font></font></blockquote>\\n \\n <blockquote><font face=\"verdana\"><font size=-1>you are eligible! this money\\n is absolutely free and will be yours to use for any worthwhile purpose.</font></font></blockquote>\\n \\n <blockquote><font face=\"verdana\"><font size=-1>did you know you can apply\\n for as many grants as you want?</font></font></blockquote>\\n \\n <blockquote><font face=\"verdana\"><font size=-1>it\\'s true, for instance,\\n you could get a $65,000 grant to begin a weight loss business, get $8,800\\n in tuition to become a nurse or $35,000 to open up the day-care center,\\n you\\'ve always dreamed of owning. and then, go out and apply for a grant\\n to buy a home for you and your family. and once your new business starts\\n doing well you could go out and get another grant for expansion of your\\n business. the possibilities are endless.</font></font></blockquote>\\n \\n \\n <br>&nbsp;\\n <center><table border=0 cellspacing=0 cellpadding=2 width=\"555\" >\\n <tr>\\n <td>\\n <h3>\\n <font face=\"arial\"><font color=\"#cc0000\"><font size=+0>you must qualify\\n for <u>at least</u> $25,000 in free<br>\\n grants money, or your money back!</font></font></font></h3>\\n \\n <blockquote><font face=\"verdana\"><font size=-1>we are so confident in our\\n grants guide that if you have not received at least $25,000 in free grant\\n money, or, if you are unhappy with our e-book for any reason within the\\n next 12 months, just send the e-book back and we will refund your entire\\n payment. no questions asked!!</font></font></blockquote>\\n \\n <blockquote><font face=\"verdana\"><font size=-1>if you want to order, we\\n insist you do so entirely at our risk. that is why the e-book comes with\\n a... <b>no risk full year money-back guarantee</b>. there is absolutely\\n no risk on your part with this 365 day guarantee. what we mean is we want\\n you to order without feeling you might \"get taken.\"</font></font></blockquote>\\n \\n <blockquote><font face=\"verdana\"><font size=-1>therefore, we want you to\\n order this material today... read it, use it... and if for any reason you\\n aren\\'t completely satisfied, you not only can cancel, <b>you should</b>,\\n for an immediate refund of your purchase price. you simply can\\'t lose.</font></font></blockquote>\\n \\n <blockquote style=\"text-align: center\"><b><font face=\"verdana\"><font color=\"#0000cc\"><font size=+1>free\\n bonuses</font></font></font></b></blockquote>\\n \\n <blockquote><font face=\"verdana\"><font size=-1>just to \"sweeten\" the deal,\\n i\\'ll include the following <b>four valuable bonuses</b>, that you can keep\\n as a gift, even if you later decide not to keep the grants guide!</font></font></blockquote>\\n \\n <blockquote><b><font face=\"arial\"><font color=\"#0000cc\">free bonus #1:</font></font></b></blockquote>\\n \\n <blockquote><b><font face=\"verdana\"><font size=-1>a fully featured grants\\n writing tutorial software package</font></font></b></blockquote>\\n \\n <blockquote><b><font face=\"verdana\"><font size=-1>this info alone is worth\\n thousands of dollars - i guarantee you can purchase a grants cd or info\\n anywhere, and you will not receive this downloadable software that actually\\n shows you how to apply and what to say, so that you are accepted for a\\n grant !!!</font></font></b></blockquote>\\n \\n <blockquote><font face=\"verdana\"><font size=-1>this interactive software\\n tool will walk you through the grant-writing process and will teach you\\n everything you need to know to write competitive grants proposals.</font></font></blockquote>\\n \\n <blockquote><font face=\"verdana\"><font size=-1>the program includes:</font></font></blockquote>\\n \\n <ul>\\n <blockquote><font face=\"verdana\"><font size=-1>detailed information and\\n tips on writing grants proposals;</font></font></blockquote>\\n \\n <blockquote><font face=\"verdana\"><font size=-1>how to complete a grant\\n application package;</font></font></blockquote>\\n \\n <blockquote><font face=\"verdana\"><font size=-1>examples of good, complete\\n grant packages;</font></font></blockquote>\\n \\n <blockquote><font face=\"verdana\"><font size=-1>a glossary of grants terms;</font></font></blockquote>\\n \\n <blockquote><font face=\"verdana\"><font size=-1>resources and contacts;</font></font></blockquote>\\n \\n <blockquote><font face=\"verdana\"><font size=-1>a mock grants-writing activity\\n where you will be able to compare your results to a successful grant application</font></font></blockquote>\\n \\n <blockquote><font face=\"verdana\"><font size=-1>plus much much more</font></font></blockquote>\\n </ul>\\n \\n <blockquote><b><font face=\"arial\"><font color=\"#0000cc\">free bonus #2:</font></font></b></blockquote>\\n \\n <blockquote><b><font face=\"verdana\"><font size=-1>the insider information\\n report: 61 ways to save money</font></font></b></blockquote>\\n \\n <blockquote><font face=\"verdana\"><font size=-1>this valuable special report\\n contains insider experts tips and techniques that will help you to save\\n thousands of dollars. you\\'ll discover little known secrets and tricks to\\n saving money on airline fares, car rental, new and used car buying, auto\\n leasing, gasoline, car repairs, auto insurance, life insurance, savings\\n and investment, credit cards, home equity loans, home purchase, major appliances,\\n home heating, telephone services, food purchase, prescription drugs and\\n more.</font></font></blockquote>\\n \\n <blockquote><b><font face=\"arial\"><font color=\"#0000cc\">free bonus #3:</font></font></b></blockquote>\\n \\n <blockquote><b><font face=\"verdana\"><font size=-1>the complete guide to\\n starting your own business</font></font></b></blockquote>\\n \\n <blockquote><font face=\"verdana\"><font color=\"#000000\"><font size=-1>a\\n comprehensive manual that will give you all the guidelines and tools you\\n need to start and succeed in a business of your own, packed with guides,\\n forms, worksheets and checklists. you will be amazed at how simple these\\n strategies and concepts are and how easy it will be for you to apply them\\n to your own business idea. hundreds were sold separately at $40 each...\\n you get it here for free.</font></font></font></blockquote>\\n \\n <blockquote><font face=\"verdana\"><font color=\"#000000\"><font size=-1>here\\'s\\n just a taste of what\\'s in the guide:</font></font></font></blockquote>\\n \\n <blockquote><font face=\"verdana\"><font color=\"#000000\"><font size=-1>how\\n to determine the feasibility of your business idea. a complete fill in\\n the blanks template system that will help you predict problems before they\\n happen and keep you from losing your shirt on dog business ideas.</font></font></font></blockquote>\\n \\n <blockquote><font face=\"verdana\"><font size=-1>a step by step explanation\\n of how to develop a business plan that will make bankers, prospective partners\\n and investors line up at your door. plus, a complete ready made business\\n plan template you can easily adapt to your exact needs.</font></font></blockquote>\\n \\n <blockquote><font face=\"verdana\"><font size=-1>discover the easiest, simplest\\n ways to find new products for your business that people are anxious to\\n buy.</font></font></blockquote>\\n \\n <blockquote><font face=\"verdana\"><font color=\"#000000\"><font size=-1>how\\n to make money with your new idea or invention. secrets of making sure you\\n put cash in your pocket on your very first idea business venture.</font></font></font></blockquote>\\n \\n <blockquote><font face=\"verdana\"><font size=-1>complete, step by step instructions\\n on how to plan and start a new business. this is must-know must-do information;\\n ignore it and you stand a good chance to fail. you get specifically designed\\n instructions for each of the following: a service business, a retail store,\\n a home based business, a manufacturing company, and more.</font></font></blockquote>\\n \\n <blockquote><font face=\"verdana\"><font size=-1>what nobody ever told you\\n about raising venture capital money. insider secrets of attracting investors,\\n how to best construct your proposal, common mistakes and traps to avoid,\\n and much more.</font></font></blockquote>\\n \\n <blockquote><font face=\"verdana\"><font color=\"#000000\"><font size=-1>checklist\\n for entering into a partnership. keeps you from costly mistakes when forming\\n a partnership.</font></font></font></blockquote>\\n \\n <blockquote><font face=\"verdana\"><font size=-1>how to select a franchise\\n business. a step by step guide to selecting a franchise that is best for\\n you.</font></font></blockquote>\\n \\n <blockquote><font face=\"verdana\"><font size=-1>a complete step-by-step\\n organized program for cutting costs in your business. clients of mine have\\n achieved an average of 28% to 35% cost reduction with this technique, and\\n you can too. keep the money in your pocket with this one!</font></font></blockquote>\\n \\n <blockquote><font face=\"verdana\"><font size=-1>what are the secrets behind\\n constructing a results driven marketing plan? i will lead you step by step\\n into developing a marketing plan that will drive your sales through the\\n roof.</font></font></blockquote>\\n \\n <blockquote><font face=\"verdana\"><font size=-1>a complete step by step\\n guide guaranteed to help you increase your profits by up to 64%, i call\\n it \"the profit planning guide\". this is a simple, practical, common sense\\n strategy, but amazingly enough, almost no one understands or uses it.</font></font></blockquote>\\n \\n <blockquote><b><font face=\"arial\"><font color=\"#0000cc\">free bonus #4:</font></font></b></blockquote>\\n \\n <blockquote><b><font face=\"verdana\"><font size=-1>guide to home business\\n success</font></font></b></blockquote>\\n \\n <blockquote><font face=\"verdana\"><font color=\"#000000\"><font size=-1>this\\n is a&nbsp;<span style=\"text-decoration: none\">fast, no-frills</span> guide\\n to starting and succeeding in a home based business. here\\'s just a taste\\n of what\\'s in the guide:</font></font></font></blockquote>\\n \\n <blockquote><font face=\"verdana\"><font color=\"#000000\"><font size=-1>home\\n business: is it for you?</font></font></font></blockquote>\\n \\n <blockquote><font face=\"verdana\"><font color=\"#000000\"><font size=-1>what\\n are the secrets behind the people who have million dollar home based businesses?\\n you\\'ll find a 24 tip list proven to turn your home business into a money\\n machine.</font></font></font></blockquote>\\n \\n <blockquote><font face=\"verdana\"><font size=-1>laws and regulations you\\n must be aware of to avoid legal errors.</font></font></blockquote>\\n \\n <blockquote><font face=\"verdana\"><font color=\"#000000\"><font size=-1>planning\\n a home based business<b> -</b> insider secrets and tips revealed for ensuring\\n your success in a home business.</font></font></font></blockquote>\\n \\n <blockquote><font face=\"verdana\"><font color=\"#000000\"><font size=-1>fundamentals\\n of home business financial planning.</font></font></font></blockquote>\\n \\n <blockquote><font face=\"verdana\"><font size=-1>s<font color=\"#000000\">imple,\\n easy to copy ideas that will enhance your image - and the response you\\n get from your customers.</font></font></font></blockquote>\\n \\n <blockquote><font face=\"verdana\"><font color=\"#000000\"><font size=-1>common\\n problems in starting and managing a home based&nbsp; business - and how\\n to solve them once and for all.</font></font></font></blockquote>\\n <b><font face=\"arial\"><font color=\"#cc0000\">who i am and why i\\'m qualified\\n to give</font></font></b>\\n <br><b><font face=\"arial\"><font color=\"#cc0000\">you the best grants advice\\n available</font></font></b>\\n <blockquote><font face=\"verdana\"><font color=\"#000000\"><font size=-1>i\\'m\\n the president of a leading internet based information business. i\\'m also\\n the creator of \"the managing a small business cd-rom\" and the author of\\n five books.</font></font></font></blockquote>\\n \\n <blockquote><font face=\"verdana\"><font color=\"#000000\"><font size=-1>i\\'ve\\n been involved in obtaining grants and in small business for the past 23\\n years of my life, as a business coach, a manager of a consulting firm,\\n a seminar leader and as the owner of five successful businesses.</font></font></font></blockquote>\\n \\n <blockquote><font face=\"verdana\"><font color=\"#000000\"><font size=-1>during\\n my career as a business coach and consultant i\\'ve helped dozens of business\\n owners obtain government grants, start their businesses, market, expand,\\n get out of troubles, sell their businesses and do practically every other\\n small business activity you can think of.</font></font></font></blockquote>\\n \\n <blockquote><font face=\"verdana\"><font color=\"#000000\"><font size=-1>the\\n guide presented here contains every tip, trick, technique and strategy\\n i\\'ve learned during my 23 year career. you practically get my whole brain\\n in a form of an e-book.</font></font></font></blockquote>\\n <b><font face=\"arial\"><font color=\"#0000cc\">how the grants guide is priced?</font></font></b>\\n <blockquote><font face=\"verdana\"><font size=-1><b>the complete guide to\\n government grants</b> is normally priced at $50, but...</font></font></blockquote>\\n \\n <blockquote><font face=\"verdana\"><font size=-1>... as part of an online\\n marketing test, if you purchase from this sale you pay only $19.99 (that\\'s\\n 75% off ...plus, you still get the free valuable bonuses.)</font></font></blockquote>\\n \\n <blockquote><b><font face=\"verdana\"><font color=\"#000000\"><font size=-1>if\\n you are serious about obtaining free grants money, you <u>need</u> this\\n guide. don\\'t delay a moment longer. order now !!!&nbsp;</font></font></font></b></blockquote>\\n <font face=\"verdana\"><font size=-1><b>p.s.</b> the complete guide to government\\n grants will make a huge difference. you risk nothing. the guide is not\\n the original price of $50, but only $19.99 (<u>if you purchase through\\n this sale </u>) and comes with a one year money back guarantee. and you\\n get four valuable free bonuses which you may keep regardless. don\\'t delay\\n a moment longer, order now !!!!</font></font>\\n <br>&nbsp;\\n \\n <p style=\"margin-bottom: 0cm\"><font face=\"verdana\"><font size=-1>shipping\\n and handling is <b><font color=\"#cc0000\">free</font></b> since we will\\n email you all of this info via access to our secure website which contains\\n everything described above.</font></font>\\n <br>\\n <hr>\\n <center>\\n <p>&nbsp;<font color=\"#ff0000\"><font size=+4><a href=\"http://www.2003marketing.com/grants.htm\">order\\n now!!!</a></font></font></center>\\n \\n if above link doesn\\'t work, <a href=\"http://2003marketing.com/grants.htm\">click here\\n </td>\\n </tr>\\n </table></center>\\n \\n <p><a name=\"ebayphotohosting\"></a><a name=\"ebaylargephotohosting\"></a>\\n <br>&nbsp;\\n </body>\\n </html>\\n 5644bpjd2-377pfpy5008cngo0-002ousm8515zvfl7-701gwkm2954nypo7-265cugn9200l68\\n \\n \\n'"
      ]
     },
     "metadata": {},
     "output_type": "display_data"
    },
    {
     "name": "stdout",
     "output_type": "stream",
     "text": [
      "Email Index:27\n",
      "\n"
     ]
    },
    {
     "data": {
      "text/plain": [
       "\"dear opportunities seekers:\\n \\n i thought you just might be interested in the followings:\\n \\n we are currently hiring work home \\n typist/clerk/secretary/supervisor/trainer/marketer/manager.we pay weekly\\n 1000 usd \\n potential. no experience ok. must know typing. no sex,age limit. part/full\\n time. anywhere in \\n the world. apply now!\\n email: responsevivek@indiatimes.com and put i am interested in subject\\n line for details. no spam. give it a chance.\\n \\n \\n \\n our business links:\\n \\n offshore banking high interests account. 300% per year\\n after year.why\\n just settle for 4%? since 1993.more info . responsevivek@indiatimes.com\\n \\n take advantage of our (malaysia)low currencies.buy\\n cellular phones\\n cheap. brand name :motorola,siemen etc. from 50 usd.brand\\n new.guaranteed world lowest.good quality.all\\n models.details : responsevivek@indiatimes.com. we also buy/sell\\n second-hand cell phones. quality guaranteed.\\n \\n guaranteed world lowest phone rates.try use it yourself\\n for free.or be an agent for the top ten and get your own\\n free web pages and make big $$$.all for free.\\n please  contact\\n \\n your own perfect medicine.the miracle of urine\\n therapy.good-bye to\\n surgical knife,radiation,chemo etc.friends of unrine\\n therapy life-time\\n membership.free consultation.dr.lim heng kiap,father of\\n urine\\n therapy,malaysia,head of charitable natural health\\n farm,forest reserve\\n area(frim ,kuala lumpur ,malaysia)others include\\n :fasting,herbal,hydro-natural hot, cold spring\\n spas,crystal,meditation\\n etc.interested please contact: responsevivek@indiatimes.com\\n \\n \\n all the above agent/dealer/representative wanted.\\n \\n trade enquiries welcomed. please email: responsevivek@indiatimes.com\\n -- \\n irish linux users' group: ilug@linux.ie\\n http://www.linux.ie/mailman/listinfo/ilug for (un)subscription information.\\n list maintainer: listmaster@linux.ie\\n \\n \\n\""
      ]
     },
     "metadata": {},
     "output_type": "display_data"
    },
    {
     "name": "stdout",
     "output_type": "stream",
     "text": [
      "Email Index:32\n",
      "\n"
     ]
    },
    {
     "data": {
      "text/plain": [
       "'<html><body onload=\"window.open(\\'http://202.101.163.34:81/ultimatehgh_run/\\')\" bgcolor=\"#ccff66\" topmargin=1 onmouseover=\"window.status=\\'\\'; return true\" oncontextmenu=\"return false\" ondragstart=\"return false\" onselectstart=\"return false\">\\n <div align=\"center\">hello, jm@netnoteinc.com<br><br></div><div align=\"center\"></div><p align=\"center\"><b><font face=\"arial\" size=\"4\">human growth hormone therapy</font></b></p>\\n <p align=\"center\"><b><font face=\"arial\" size=\"4\">lose weight while building lean muscle mass<br>and reversing the ravages of aging all at once.</font><font face=\"arial\" size=\"3\"><br>\\n </font></b><font face=\"arial\" size=\"3\"> <br>\\n as seen on nbc, cbs, and cnn, and even oprah! the health<br>\\n discovery that actually reverses aging while burning fat,<br>\\n without dieting or exercise! this proven discovery has even<br>\\n been reported on by the new england journal of medicine.<br>\\n forget aging and dieting forever! and it\\'s guaranteed!</font></p>\\n <center><table width=\"481\"><tr><td height=\"2\" width=\"247\"><p align=\"left\"><b><font face=\"arial, helvetica, sans-serif\" size=\"3\">lose weight<br>build muscle tone<br>reverse aging<br>\\n increased libido<br>duration of penile erection<br></font></b></p></td><td height=\"2\" width=\"222\"><p align=\"left\"><b><font face=\"arial, helvetica, sans-serif\" size=\"3\">healthier bones<br>\\n improved memory<br>improved skin<br>new hair growth<br>wrinkle disappearance </font></b></p></td></table></center>\\n <p align=\"center\"><a href=\"http://202.101.163.34:81/ultimatehgh_run/\"><font face=\"arial\" size=\"4\"><b>visit \\n   our web site and learn the facts : click here</b></font></a><br>\\n   <br>\\n   <a href=\"http://202.96.124.10:81/ultimatehgh_run/\"><font size=\"4\"><b>or \\n   here</b></font></a></p>\\n <div align=\"center\"><br>\\n   you are receiving this email as a subscr<!---->iber<br>\\n   to the opt<!---->-in ameri<!---->ca mailin<!---->g lis<!---->t. <br>\\n to remo<!---->ve your<!---->self from all related mailli<!--me-->sts,<br>just <a href=\"http://202.96.124.10:81/ultimatehgh_run/remove.php?userid=jm@netnoteinc.com\">click here</a></div></body></html>\\n \\n \\n'"
      ]
     },
     "metadata": {},
     "output_type": "display_data"
    },
    {
     "name": "stdout",
     "output_type": "stream",
     "text": [
      "Email Index:39\n",
      "\n"
     ]
    },
    {
     "data": {
      "text/plain": [
       "\"from: col. michael bundu. \\n democratic republic of congo. \\n tel no: your country intl. access code +8821652098236\\n email : mikebundu@rediffmail.com\\n dear sir/madam\\n \\n \\n seeking your immediate assistance. \\n \\n please permit me to make your acquaintance in so informal a manner. this\\n is necessitated by my urgent need to reach a \\n dependable and trust worthy foreign partner. this request may seem strange\\n and unsolicited but i crave your indulgence \\n and pray that you view it seriously. my name is col. michael bundu of the\\n democratic republic of congo and one of \\n the close aides to the former president of the democratic republic of\\n congo laurent kabila of blessed memory, may \\n his soul rest in peace. \\n \\n due to the military campaign of laurent kabila to force out the rebels in\\n my country, i and some of my colleagues were \\n instructed by late president kabila to go abroad to purchase arms and\\n ammunition worth of twenty million, five hundred \\n thousand united states dollars only (us$20,500,000.00) to fight the rebel\\n group. we were then given this money privately \\n by the then president, laurent kabila, without the knowledge of other\\n cabinet members. but when president kabila \\n was killed in a bloody shoot-out by one of his bodyguards a day before we\\n were schedule to travel out of congo, we \\n immediately decided to put the funds into a private security company here\\n in congo for safe keeping. the security of the \\n said amount is presently being threatened here following the arrest and\\n seizure of properties of col. rasheidi karesava \\n (one of the aides to laurent kabila) a tribesman, and some other military\\n personnel from our same tribe, by the new \\n president of the democratic republic of congo, the son of late president\\n laurent kabila, joseph kabila. \\n \\n in view of this, we need a reliable and trustworthy foreign partner who\\n can assist us to move this money out of my country \\n as the beneficiary. \\n we have sufficient ''contacts'' here to move the fund under diplomatic\\n cover to a security company in europe in your \\n name. this is to ensure that the diplomatic baggage is marked\\n ''confidential'' and it \\n will not pass through normal custom/airport screening and clearance. \\n \\n our inability to move this money out of congo all this while stems from\\n our lack of trust of our supposed good friends \\n (western countries) who suddenly became hostile to those of us who worked\\n with the late president kabila, immediately \\n after his son took office. though we have neither seen nor met each other,\\n the information we gathered from an associate \\n who has worked in your country has encouraged and convinced us that with\\n your sincere assistance, this transaction will \\n be properly handled with modesty and honesty to a huge success within two\\n weeks. the said money is a state fund and \\n therefore requires a total confidentiality. \\n \\n we would please need you to stand on our behalf as the beneficiary of this\\n fund in europe. this is because we are under \\n restricted movement and watch and hence we want to be very careful in\\n order not to lose this fund which we have worked \\n so hard for. thus, if you are willing to assist us to move this fund out\\n of congo, you can contact me through my email \\n addresses, tel/fax nos. above with your telephone, fax number and personal\\n information to enable us discuss the \\n modalities and what will be your share (percentage) for assisting us.\\n \\n please note that there are no risks involved in this deal as everyone's\\n security is guaranteed if we follow the required \\n guidelines. i will hence furnish you with further details of this deal as\\n soon as i am assured of your sincere interest to assist \\n us. \\n \\n i must use this opportunity and medium to implore you to exercise the\\n utmost indulgence to keep this matter extraordinarily \\n confidential, whatever your decision, while i await your prompt response.\\n thank you and god bless. \\n best regards \\n \\n \\n col. michael bundu(rtd). m_bundu@rediffmail.com\\n \\n n\\\\b. when you are calling my line, you dial your country intl. access\\n code, then you dial directly, do not include my country \\n code i.e. (243). just dial your country intl. access code + 88216\\n 52098236. you can also contact me through the above \\n email addresses.\\n \\n \\n \\n \\n \\n \\n \\n -- \\n irish linux users' group: ilug@linux.ie\\n http://www.linux.ie/mailman/listinfo/ilug for (un)subscription information.\\n list maintainer: listmaster@linux.ie\\n \\n \\n\""
      ]
     },
     "metadata": {},
     "output_type": "display_data"
    },
    {
     "name": "stdout",
     "output_type": "stream",
     "text": [
      "Email Index:40\n",
      "\n"
     ]
    },
    {
     "data": {
      "text/plain": [
       "\"attn:\\n \\n i am bulawa mulete jr. the son of mr. \\n \\n steve mbeki mulete from zimbabwe. i am sorry this mail\\n will surprise you, though we do not know, \\n due to the current war against white farmers in\\n zimbabwe and the support of president robert mugabe to\\n claim all white owned farms in our country to gain\\n favor for re-election.\\n \\n all white farmers were asked to\\n surrender their farms to the government for\\n re-distribution and infact to his political party\\n members and my father though black was the treasury\\n of the farmers association and a strong member of an\\n opposition party that did not support the president\\n idea. he then ordered his party members and the police\\n under his pay row to invade my father's farm and burn\\n down everything in the farm. they killed my\\n father and took away a lot of items from his farm.\\n after the death of my father, our local pastor and a\\n close friend of my father handed us over will\\n documents with instructions from my father that we\\n should leave zimbabwe incase anything happen to him. the will \\n documents has a certificate of deposit, confirming a deposit\\n kept in custody for us in a security company unknown\\n to the company that the content is money hence it was deposited as \\n personal belongings and ensure that we do not remain here as we could\\n easily be found by his enemies. the total amount is\\n us$21.5m.we are therefore soliciting for\\n your assistance to help us move the fund out of\\n zimbabwe, as our fate and future is far from\\n reality, hence this mail to you. the president's present ban of\\n international press into zimbabwe and the drop from office of the \\n finance minister to avoid giving white farmers fund transfer\\n clearance above us$1m is just a few of the\\n unthinkable things he is committing in my country.\\n i have tried to reach my father's close friend mr.\\n john casahans from australia also a farmer who was\\n leaving in zimbabwe with us but left with his family\\n late last year following this ugly development to no\\n avail.\\n should you be interested to help us, contact me\\n immediately via email for easy communication and i\\n will furnish you with the time frame and modalities of\\n the transaction. we have concluded a wonderful plan of \\n caring out the transfer within two weeks. please note that \\n this transaction is100% confidential and risk free and will \\n not endanger you or us in any way. we have resolved to give you 20%\\n of the total sum upon confirmation of the fund in any\\n account of your choice were the incident of taxation\\n will not take much tool on the money and we look\\n forward to coming over to your country to invest our\\n share and settle there. i will a private\\n phone so that our conversation can be\\n 100% confidential.\\n \\n note: do reply to bulmulete@golfemail.com\\n \\n \\n god bless you indeed as you help yourself and us.\\n \\n mr. bulawa  mulete jr\\n  \\n \\n \\n \\n -- \\n irish linux users' group: ilug@linux.ie\\n http://www.linux.ie/mailman/listinfo/ilug for (un)subscription information.\\n list maintainer: listmaster@linux.ie\\n \\n\""
      ]
     },
     "metadata": {},
     "output_type": "display_data"
    }
   ],
   "source": [
    "# Use this cell for scratch work when determining `email_idx`\n",
    "pattern = '|'.join(some_words)\n",
    "print(pattern)\n",
    "feature_emails = train[(train['spam'] == 1) & (train['email'].str.contains(pattern, case=False, na=False))]\n",
    "for i in range(5):\n",
    "    print(f'Email Index:{feature_emails.index[i]}\\n')\n",
    "    display(feature_emails['email'].values[i])\n"
   ]
  },
  {
   "cell_type": "code",
   "execution_count": 34,
   "metadata": {
    "tags": []
   },
   "outputs": [
    {
     "name": "stdout",
     "output_type": "stream",
     "text": [
      "\n",
      "Predicted probability of being spam: 55.57%\n",
      "\n",
      "Email:\n",
      "dear opportunities seekers:\n",
      " \n",
      " i thought you just might be interested in the followings:\n",
      " \n",
      " we are currently hiring work home \n",
      " typist/clerk/secretary/supervisor/trainer/marketer/manager.we pay weekly\n",
      " 1000 usd \n",
      " potential. no experience ok. must know typing. no sex,age limit. part/full\n",
      " time. anywhere in \n",
      " the world. apply now!\n",
      " email: responsevivek@indiatimes.com and put i am interested in subject\n",
      " line for details. no spam. give it a chance.\n",
      " \n",
      " \n",
      " \n",
      " our business links:\n",
      " \n",
      " offshore banking high interests account. 300% per year\n",
      " after year.why\n",
      " just settle for 4%? since 1993.more info . responsevivek@indiatimes.com\n",
      " \n",
      " take advantage of our (malaysia)low currencies.buy\n",
      " cellular phones\n",
      " cheap. brand name :motorola,siemen etc. from 50 usd.brand\n",
      " new.guaranteed world lowest.good quality.all\n",
      " models.details : responsevivek@indiatimes.com. we also buy/sell\n",
      " second-hand cell phones. quality guaranteed.\n",
      " \n",
      " guaranteed world lowest phone rates.try use it yourself\n",
      " for free.or be an agent for the top ten and get your own\n",
      " free web pages and make big $$$.all for free.\n",
      " please  contact\n",
      " \n",
      " your own perfect medicine.the miracle of urine\n",
      " therapy.good-bye to\n",
      " surgical knife,radiation,chemo etc.friends of unrine\n",
      " therapy life-time\n",
      " membership.free consultation.dr.lim heng kiap,father of\n",
      " urine\n",
      " therapy,malaysia,head of charitable natural health\n",
      " farm,forest reserve\n",
      " area(frim ,kuala lumpur ,malaysia)others include\n",
      " :fasting,herbal,hydro-natural hot, cold spring\n",
      " spas,crystal,meditation\n",
      " etc.interested please contact: responsevivek@indiatimes.com\n",
      " \n",
      " \n",
      " all the above agent/dealer/representative wanted.\n",
      " \n",
      " trade enquiries welcomed. please email: responsevivek@indiatimes.com\n",
      " -- \n",
      " irish linux users' group: ilug@linux.ie\n",
      " http://www.linux.ie/mailman/listinfo/ilug for (un)subscription information.\n",
      " list maintainer: listmaster@linux.ie\n",
      " \n",
      " \n",
      "\n"
     ]
    }
   ],
   "source": [
    "email_idx = 27\n",
    "\n",
    "prob_spam = simple_model.predict_proba(X_train)[:, 1]\n",
    "initial_prob = prob_spam[email_idx]\n",
    "initial_class = \"spam\" if np.round(initial_prob) else \"ham\"\n",
    "print(f\"\\nPredicted probability of being spam: {np.round(initial_prob*100, 2)}%\")\n",
    "print(\"\\nEmail:\\n\" + train.loc[email_idx][\"email\"])"
   ]
  },
  {
   "cell_type": "code",
   "execution_count": 35,
   "metadata": {},
   "outputs": [
    {
     "data": {
      "text/plain": [
       "['drug', 'bank', 'prescription', 'memo', 'private']"
      ]
     },
     "execution_count": 35,
     "metadata": {},
     "output_type": "execute_result"
    }
   ],
   "source": [
    "some_words"
   ]
  },
  {
   "cell_type": "code",
   "execution_count": 36,
   "metadata": {
    "tags": []
   },
   "outputs": [
    {
     "name": "stdout",
     "output_type": "stream",
     "text": [
      "Initially classified as spam (Probability: 55.57%)\n",
      "Now classified as ham (Probability: 24.33%)\n"
     ]
    }
   ],
   "source": [
    "feature_to_remove = 'bank'\n",
    "\n",
    "changed_words = some_words.copy()\n",
    "changed_words.remove(feature_to_remove)\n",
    "\n",
    "changed_model = LogisticRegression()\n",
    "X_changed = words_in_texts(changed_words, train['email'])\n",
    "y = train['spam']\n",
    "changed_model.fit(X_changed, y)\n",
    "changed_prob = changed_model.predict_proba(X_changed[[email_idx]])[:,1][0]\n",
    "changed_class = \"spam\" if np.round(changed_prob) else \"ham\"\n",
    "\n",
    "print(f\"Initially classified as {initial_class} (Probability: {np.round(initial_prob*100, 2)}%)\")\n",
    "print(f\"Now classified as {changed_class} (Probability: {np.round(changed_prob*100, 2)}%)\")"
   ]
  },
  {
   "cell_type": "code",
   "execution_count": 37,
   "metadata": {
    "deletable": false,
    "editable": false
   },
   "outputs": [
    {
     "data": {
      "text/html": [
       "<p><strong><pre style='display: inline;'>q7ai</pre></strong> passed! 🌈</p>"
      ],
      "text/plain": [
       "q7ai results: All test cases passed!"
      ]
     },
     "execution_count": 37,
     "metadata": {},
     "output_type": "execute_result"
    }
   ],
   "source": [
    "grader.check(\"q7ai\")"
   ]
  },
  {
   "cell_type": "markdown",
   "metadata": {
    "deletable": false,
    "editable": false
   },
   "source": [
    "<!-- BEGIN QUESTION -->\n",
    "\n",
    "#### Part ii\n",
    "\n",
    "Please provide below the index of the email that you removed (`email_idx`). Additionally, in 2-3 sentences, explain why you think the feature you chose to remove changed how your email was classified."
   ]
  },
  {
   "cell_type": "markdown",
   "metadata": {},
   "source": [
    "_The index of the email that I removed was 27. The contents of the email show that a job (that seems too good to be true) is being offered to numerous candidates. It was originally classified as spam and contained the word \"banking\". Once \"bank\" was removed from the feature set, it was no longer classified as spam as there were not any other words in the feature set present in the email, leading to a classification as ham._"
   ]
  },
  {
   "cell_type": "markdown",
   "metadata": {
    "deletable": false,
    "editable": false
   },
   "source": [
    "<!-- END QUESTION -->\n",
    "\n",
    "### Question 7b\n",
    "\n",
    "Now, let's say that instead of working with a small model containing 50-100 features, you're working with a much larger, more accurate model containing 1000 features. "
   ]
  },
  {
   "cell_type": "markdown",
   "metadata": {
    "deletable": false,
    "editable": false
   },
   "source": [
    "<!-- BEGIN QUESTION -->\n",
    "\n",
    "#### Part i\n",
    "In this context, do you think you could easily find a feature that could change an email's classification as you did in part a)? Why or why not?"
   ]
  },
  {
   "cell_type": "markdown",
   "metadata": {},
   "source": [
    "_No, I do not believe it would be easy to find a feature that could change an email's classification in a model with 1000 features. With so many features, it becomes challenging to isolate the impact of a single feature due to the complexity of the model. Additionally, the presence of multicollinearity means that many features may be highly correlated, making it difficult to attribute changes in classification to one specific feature. The model may also rely on combinations of features rather than individual ones, further complicating interpretation._"
   ]
  },
  {
   "cell_type": "markdown",
   "metadata": {
    "deletable": false,
    "editable": false
   },
   "source": [
    "<!-- END QUESTION -->\n",
    "\n",
    "<!-- BEGIN QUESTION -->\n",
    "\n",
    "#### Part ii \n",
    "Would you expect this new model to be more or less interpretable than `simple_model`?\n",
    "\n",
    "**Note**: A model is considered interpretable if you can easily understand the reasoning behind its predictions and classifications. For example, the model we saw in part a), `simple_model`, is considered interpretable as we can identify which features contribute to an email's classification."
   ]
  },
  {
   "cell_type": "markdown",
   "metadata": {},
   "source": [
    "_I believe that a new model with 1000 features as opposed to one with only a few features, such as simple_model, would be far less interpretable. With more features, it becomes harder to understand why a model is predicting the way it is and how it is weighting each of the features in the prediction. With so many features, measuring how much one feature contibutes becomes much harde, and the introduction of multicollinearity and overcomplexity also blur its interpretability._"
   ]
  },
  {
   "cell_type": "markdown",
   "metadata": {
    "deletable": false,
    "editable": false
   },
   "source": [
    "<!-- END QUESTION -->\n",
    "\n",
    "<!-- BEGIN QUESTION -->\n",
    "\n",
    "### Question 7c\n",
    "\n",
    "Now, imagine you’re a data scientist at Meta, developing a text classification model to decide whether to remove certain posts / comments on Facebook. In particular, you’re primarily working on moderating the following categories of content:\n",
    "* Hate speech\n",
    "* Misinformation \n",
    "* Violence and incitement\n",
    "\n",
    "Pick one of these types of content to focus on (or if you have another type you’d like to focus on, feel free to comment on that!). What content would fall under the category you’ve chosen? Refer to Facebook’s [Community Standards](https://transparency.fb.com/policies/community-standards/), which outline what is and isn’t allowed on Facebook. "
   ]
  },
  {
   "cell_type": "markdown",
   "metadata": {},
   "source": [
    "_I look into hate speech as the category of content to moderate. Hate speech may include posts or comments that insult or attack people based on things like their race, religion, gender, or sexual orientation. Some content might fall under this category if it uses slurs, makes harmful stereotypes, or encourages violence against a group of people. It might also include posts that dehumanize people based on their background, culture, or identity. Content like this can cause harm to users and create a toxic environment, which is why moderating it would be important._"
   ]
  },
  {
   "cell_type": "markdown",
   "metadata": {
    "deletable": false,
    "editable": false
   },
   "source": [
    "<!-- END QUESTION -->\n",
    "\n",
    "<!-- BEGIN QUESTION -->\n",
    "\n",
    "### Question 7d\n",
    "\n",
    "What are the stakes of misclassifying a post in the context of a social media platform? Comment on what a false positive and false negative means for the category of content you’ve chosen (hate speech, misinformation, or violence and incitement)."
   ]
  },
  {
   "cell_type": "markdown",
   "metadata": {},
   "source": [
    "_A false positive in terms of misclassifying something like hate speech on social media can lead to the censorship of genuine ideas. A false negative would classify hate speech as benign and publish hateful and hurtful content that can lead to the offense of others and dehumanizing of attacked individuals._"
   ]
  },
  {
   "cell_type": "markdown",
   "metadata": {
    "deletable": false,
    "editable": false
   },
   "source": [
    "<!-- END QUESTION -->\n",
    "\n",
    "<!-- BEGIN QUESTION -->\n",
    "\n",
    "### Question 7e\n",
    "\n",
    "As a data scientist, why might having an interpretable model be useful when moderating content online?"
   ]
  },
  {
   "cell_type": "markdown",
   "metadata": {},
   "source": [
    "_As a data scientist, having an interpretable model is extremely important for moderating content online as it helps us understand why the model flagged or removed something. This makes it easier to spot any mistakes or biases and fix them. It also helps explain to users why their post was flagged, which can reduce frustration and make the process feel more fair. Futhermore, it makes fixing and adjusting the model easier as having an uninterpretable model, such as one with way too many features and feature interaction, leads to delays and a struggle to adapt the model to more accurately classify content. With delays in classification or bug fixes, those impacted by faulty moderation may experience emotional anguish, leading to numerous other problems down the line._"
   ]
  },
  {
   "cell_type": "markdown",
   "metadata": {
    "deletable": false,
    "editable": false
   },
   "source": [
    "<!-- END QUESTION -->\n",
    "\n",
    "As you explored throughout this question, interpretability is incredibly important. However, it is equally important to note that interpretability on its own isn’t a fix to all the problems that may arise when moderating content or when building a model more generally. As we touched on in Project A2, these models don’t operate in a vacuum; they exist in a wider sociotechnical system. Everything from the data used to train these models to the metrics we choose to evaluate our models builds on that notion."
   ]
  },
  {
   "cell_type": "markdown",
   "metadata": {},
   "source": [
    "<br/><br/>\n",
    "<hr style=\"border: 5px solid #003262;\" />\n",
    "<hr style=\"border: 1px solid #fdb515;\" />\n",
    "\n",
    "## The pets of Data100 congratulate you for finishing Project B2 (the last major assignment)!\n",
    "\n",
    "<div align=\"middle\">\n",
    "    <table style=\"width:75%\">\n",
    "      <tr align=\"center\">\n",
    "        <td><img src=\"images/IMG_2792.jpg\" align=\"middle\" width=\"325vw\"/>\n",
    "        <td><img src=\"images/_DSC9613.jpg\" align=\"middle\" width=\"335vw\"/>\n",
    "        <td><img src=\"images/IMG_2797.jpg\" align=\"middle\" width=\"325vw\"/>\n",
    "      </tr>\n",
    "      <tr align=\"center\">\n",
    "        <td><img src=\"images/IMG_5768.jpg\" align=\"middle\" width=\"325vw\"/>\n",
    "        <td><img src=\"images/IMG_2485.jpg\" align=\"middle\" width=\"325vw\"/>\n",
    "        <td><img src=\"images/IMG_5878.jpg\" align=\"middle\" width=\"325vw\"/>\n",
    "      </tr>\n",
    "      <tr align=\"center\">\n",
    "        <td><img src=\"images/IMG_8790.jpg\" align=\"middle\" width=\"325vw\"/>\n",
    "        <td><img src=\"images/IMG_6077.jpeg\" align=\"middle\" width=\"325vw\"/>\n",
    "        <td><img src=\"images/IMG_9524.jpg\" align=\"middle\" width=\"325vw\"/>\n",
    "      </tr>\n",
    "    </table>\n",
    "  </div>\n",
    "\n",
    "### Course Content Feedback\n",
    "\n",
    "If you have any feedback about this assignment or about any of our other weekly, weekly assignments, lectures, or discussions, please fill out the [Course Content Feedback Form](https://docs.google.com/forms/d/e/1FAIpQLSdpKA_E3b7PGqKSRqBUgSebb9bVFhRwRBv1ueisGsnKFkZkYg/viewform). Your input is valuable in helping us improve the quality and relevance of our content to better meet your needs and expectations!\n",
    "\n",
    "### Submission Instructions\n",
    "\n",
    "Below, you will see a cell. Running this cell will automatically generate a zip file with your autograded answers. Once you submit this file to the Project B2 Coding assignment on Gradescope, Gradescope will automatically submit a PDF file with your written answers to the Project B2 Written assignment. If you run into any issues when running this cell, feel free to check this [section](https://ds100.org/debugging-guide/autograder_gradescope/autograder_gradescope.html#why-does-grader.exportrun_teststrue-fail-if-all-previous-tests-passed) in the Data 100 Debugging Guide.\n",
    "\n",
    "If there are issues with automatically generating the PDF, you can try downloading the notebook as a PDF by clicking on `File -> Save and Export Notebook As... -> PDF`. If that doesn't work either, you can manually take screenshots of your answers to the manually graded questions and submit those. \n",
    "\n",
    "**Please make sure you submit the following to the right assignments:**\n",
    "\n",
    "* **Project B2 Coding:** Submit the zip file generated by using the `grader.export()` cell provided below.\n",
    "* **Project B2 Written:** Gradescope will automatically submit the PDF from the zip file submitted earlier. You do not need to submit anything to this assignment yourself, but *please check that the submission went through properly and that all plots rendered correctly*.\n",
    "* **Project B2 Test Set Predictions:** Submit the CSV file generated in `q3b`.\n",
    "\n",
    "**You are responsible for ensuring your submission follows our requirements and that everything was generated and submitted correctly. We will not be granting regrade requests nor extensions to submissions that don't follow instructions.** If you encounter any difficulties with submission, please don't hesitate to reach out to staff prior to the deadline. "
   ]
  },
  {
   "cell_type": "code",
   "execution_count": null,
   "metadata": {},
   "outputs": [],
   "source": []
  },
  {
   "cell_type": "markdown",
   "metadata": {
    "deletable": false,
    "editable": false
   },
   "source": [
    "## Submission\n",
    "\n",
    "Make sure you have run all cells in your notebook in order before running the cell below, so that all images/graphs appear in the output. The cell below will generate a zip file for you to submit. **Please save before exporting!**"
   ]
  },
  {
   "cell_type": "code",
   "execution_count": 38,
   "metadata": {
    "deletable": false,
    "editable": false
   },
   "outputs": [
    {
     "name": "stdout",
     "output_type": "stream",
     "text": [
      "Running your submission against local test cases...\n",
      "\n",
      "\n",
      "Your submission received the following results when run against available test cases:\n",
      "\n",
      "    q3a results: All test cases passed!\n",
      "\n",
      "    q3b results: All test cases passed!\n",
      "\n",
      "    q7ai results: All test cases passed!\n"
     ]
    },
    {
     "data": {
      "text/html": [
       "\n",
       "                    <p>\n",
       "                        Your submission has been exported. Click\n",
       "                        <a href=\"projB2_2024_12_05T23_19_04_955374.zip\" download=\"projB2_2024_12_05T23_19_04_955374.zip\" target=\"_blank\">here</a> to download\n",
       "                        the zip file.\n",
       "                    </p>\n",
       "                "
      ],
      "text/plain": [
       "<IPython.core.display.HTML object>"
      ]
     },
     "metadata": {},
     "output_type": "display_data"
    }
   ],
   "source": [
    "# Save your notebook first, then run this cell to export your submission.\n",
    "grader.export(run_tests=True)"
   ]
  },
  {
   "cell_type": "markdown",
   "metadata": {},
   "source": [
    " "
   ]
  }
 ],
 "metadata": {
  "kernelspec": {
   "display_name": "Python 3 (ipykernel)",
   "language": "python",
   "name": "python3"
  },
  "language_info": {
   "codemirror_mode": {
    "name": "ipython",
    "version": 3
   },
   "file_extension": ".py",
   "mimetype": "text/x-python",
   "name": "python",
   "nbconvert_exporter": "python",
   "pygments_lexer": "ipython3",
   "version": "3.11.11"
  },
  "otter": {
   "OK_FORMAT": true,
   "require_no_pdf_confirmation": true,
   "tests": {
    "q3a": {
     "name": "q3a",
     "points": 5,
     "suites": [
      {
       "cases": [
        {
         "code": ">>> assert 'sklearn.feature_extraction.text' not in sys.modules.keys()\n>>> bool(training_accuracy >= 0.7)\nTrue",
         "hidden": false,
         "locked": false,
         "points": 1.5
        },
        {
         "code": ">>> assert 'sklearn.feature_extraction.text' not in sys.modules.keys()\n>>> bool(training_accuracy >= 0.8)\nTrue",
         "hidden": false,
         "locked": false,
         "points": 1.5
        },
        {
         "code": ">>> assert 'sklearn.feature_extraction.text' not in sys.modules.keys()\n>>> bool(training_accuracy >= 0.84)\nTrue",
         "hidden": false,
         "locked": false,
         "points": 2
        }
       ],
       "scored": true,
       "setup": "",
       "teardown": "",
       "type": "doctest"
      }
     ]
    },
    "q3b": {
     "name": "q3b",
     "points": 0,
     "suites": [
      {
       "cases": [
        {
         "code": ">>> assert 'sklearn.feature_extraction.text' not in sys.modules.keys()\n>>> bool(isinstance(test_predictions, np.ndarray))\nTrue",
         "hidden": false,
         "locked": false
        },
        {
         "code": ">>> assert 'sklearn.feature_extraction.text' not in sys.modules.keys()\n>>> bool(np.array_equal(np.unique(test_predictions), np.array([0, 1])))\nTrue",
         "hidden": false,
         "locked": false
        },
        {
         "code": ">>> assert 'sklearn.feature_extraction.text' not in sys.modules.keys()\n>>> bool(len(test_predictions) == 1000)\nTrue",
         "hidden": false,
         "locked": false
        }
       ],
       "scored": true,
       "setup": "",
       "teardown": "",
       "type": "doctest"
      }
     ]
    },
    "q7ai": {
     "name": "q7ai",
     "points": 1,
     "suites": [
      {
       "cases": [
        {
         "code": ">>> assert simple_model.n_features_in_ == changed_model.n_features_in_ + 1\n",
         "hidden": false,
         "locked": false
        },
        {
         "code": ">>> assert changed_class != initial_class\n",
         "hidden": false,
         "locked": false
        }
       ],
       "scored": true,
       "setup": "",
       "teardown": "",
       "type": "doctest"
      }
     ]
    }
   }
  }
 },
 "nbformat": 4,
 "nbformat_minor": 4
}
